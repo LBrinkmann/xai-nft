{
 "cells": [
  {
   "cell_type": "code",
   "execution_count": 1,
   "id": "ac3a215c",
   "metadata": {
    "tags": [
     "injected-parameters"
    ]
   },
   "outputs": [],
   "source": [
    "# Parameters\n",
    "top_folder = \"/Users/valenti/xai-nft/data/top_collections\""
   ]
  },
  {
   "cell_type": "code",
   "execution_count": 7,
   "id": "b8e78195",
   "metadata": {
    "papermill": {},
    "tags": []
   },
   "outputs": [
    {
     "name": "stdout",
     "output_type": "stream",
     "text": [
      "The autoreload extension is already loaded. To reload it, use:\n",
      "  %reload_ext autoreload\n"
     ]
    }
   ],
   "source": [
    "%load_ext autoreload\n",
    "%autoreload 2\n",
    "\n",
    "import os\n",
    "# Set the new working directory\n",
    "new_directory = '/Users/valenti/xai-nft/'\n",
    "\n",
    "# Change the current working directory\n",
    "os.chdir(new_directory)\n",
    "from xai.parse.assets_price import process_assets, process_sales, merge_sales\n",
    "from xai.parse.asset_traits import enrich_traits\n",
    "from xai.parse.collections import parse_collections\n"
   ]
  },
  {
   "cell_type": "code",
   "execution_count": 8,
   "id": "a7b6014a",
   "metadata": {
    "papermill": {},
    "tags": []
   },
   "outputs": [],
   "source": [
    "process_assets(top_folder)"
   ]
  },
  {
   "cell_type": "code",
   "execution_count": 9,
   "id": "fcd809a8",
   "metadata": {
    "papermill": {},
    "tags": []
   },
   "outputs": [],
   "source": [
    "enrich_traits(top_folder)"
   ]
  },
  {
   "cell_type": "code",
   "execution_count": 10,
   "id": "8d37bc92",
   "metadata": {
    "papermill": {},
    "tags": []
   },
   "outputs": [
    {
     "name": "stdout",
     "output_type": "stream",
     "text": [
      "0/1094\n",
      "218/1094\n",
      "436/1094\n",
      "654/1094\n",
      "872/1094\n",
      "1090/1094\n"
     ]
    }
   ],
   "source": [
    "process_sales(top_folder)"
   ]
  },
  {
   "cell_type": "code",
   "execution_count": 11,
   "id": "68b4feec",
   "metadata": {
    "papermill": {},
    "tags": []
   },
   "outputs": [],
   "source": [
    "merge_sales(top_folder)"
   ]
  },
  {
   "cell_type": "code",
   "execution_count": 12,
   "id": "390f42d6",
   "metadata": {
    "papermill": {},
    "tags": []
   },
   "outputs": [],
   "source": [
    "parse_collections(top_folder)"
   ]
  }
 ],
 "metadata": {
  "interpreter": {
   "hash": "cb23852b6f92c141c23080e14a47a074c7dab1b2dff1614f690981def6792652"
  },
  "kernelspec": {
   "display_name": "Python 3 (ipykernel)",
   "language": "python",
   "name": "python3"
  },
  "language_info": {
   "codemirror_mode": {
    "name": "ipython",
    "version": 3
   },
   "file_extension": ".py",
   "mimetype": "text/x-python",
   "name": "python",
   "nbconvert_exporter": "python",
   "pygments_lexer": "ipython3",
   "version": "3.11.4"
  },
  "papermill": {
   "default_parameters": {},
   "environment_variables": {},
   "input_path": "notebooks/parse.ipynb",
   "output_path": "notebooks/parse.ipynb",
   "parameters": {
    "top_folder": "../data/top_collections"
   },
   "version": "2.3.4"
  }
 },
 "nbformat": 4,
 "nbformat_minor": 5
}
