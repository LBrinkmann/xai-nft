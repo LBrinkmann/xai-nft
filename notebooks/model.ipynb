{
 "cells": [
  {
   "cell_type": "code",
   "execution_count": 27,
   "id": "4c09d1f7",
   "metadata": {
    "tags": [
     "injected-parameters"
    ]
   },
   "outputs": [],
   "source": [
    "# Parameters\n",
    "top_folder = \"../data/top_collections\"\n"
   ]
  },
  {
   "cell_type": "code",
   "execution_count": 28,
   "id": "b63bc4b4",
   "metadata": {
    "papermill": {},
    "tags": []
   },
   "outputs": [
    {
     "name": "stdout",
     "output_type": "stream",
     "text": [
      "The autoreload extension is already loaded. To reload it, use:\n",
      "  %reload_ext autoreload\n"
     ]
    }
   ],
   "source": [
    "%load_ext autoreload\n",
    "%autoreload 2\n",
    "\n",
    "\n",
    "import os\n",
    "import pandas as pd\n",
    "import numpy as np\n",
    "import datetime\n",
    "import seaborn as sns\n",
    "import random\n",
    "from xai.utils.data import save_json\n",
    "from sklearn.linear_model import ElasticNet\n",
    "from sklearn.pipeline import Pipeline\n",
    "from sklearn.preprocessing import OneHotEncoder\n",
    "\n",
    "from sklearn.metrics import r2_score, explained_variance_score\n",
    "from sklearn.model_selection import KFold\n"
   ]
  },
  {
   "cell_type": "code",
   "execution_count": 29,
   "id": "9a0caa1b",
   "metadata": {},
   "outputs": [],
   "source": [
    "np.random.seed(42)\n",
    "random.seed(42)"
   ]
  },
  {
   "cell_type": "code",
   "execution_count": 30,
   "id": "ea9fb01f",
   "metadata": {
    "papermill": {},
    "tags": []
   },
   "outputs": [],
   "source": [
    "cuts = [f'2022-0{i}-01' for i in range(1,4)]\n",
    "validation_days = 30\n",
    "training_days = 30*6\n",
    "\n",
    "periods = [\n",
    "    {\n",
    "        'training': {\n",
    "            'start': datetime.datetime.fromisoformat(cut) - datetime.timedelta(days=training_days),\n",
    "            'end': datetime.datetime.fromisoformat(cut)\n",
    "        },\n",
    "        'validation': {\n",
    "            'start': datetime.datetime.fromisoformat(cut),\n",
    "            'end': datetime.datetime.fromisoformat(cut) + datetime.timedelta(days=validation_days)\n",
    "        },\n",
    "        'period': cut\n",
    "    }\n",
    "    for cut in cuts\n",
    "]\n",
    "\n",
    "def select(df, start, end):\n",
    "    w = (\n",
    "        (df['timestamp'] < end) &\n",
    "        (df['timestamp'] >= start)\n",
    "    )\n",
    "    return df[w]"
   ]
  },
  {
   "cell_type": "code",
   "execution_count": 31,
   "id": "782510ba",
   "metadata": {},
   "outputs": [
    {
     "data": {
      "text/plain": [
       "[{'training': {'start': datetime.datetime(2021, 7, 5, 0, 0),\n",
       "   'end': datetime.datetime(2022, 1, 1, 0, 0)},\n",
       "  'validation': {'start': datetime.datetime(2022, 1, 1, 0, 0),\n",
       "   'end': datetime.datetime(2022, 1, 31, 0, 0)},\n",
       "  'period': '2022-01-01'},\n",
       " {'training': {'start': datetime.datetime(2021, 8, 5, 0, 0),\n",
       "   'end': datetime.datetime(2022, 2, 1, 0, 0)},\n",
       "  'validation': {'start': datetime.datetime(2022, 2, 1, 0, 0),\n",
       "   'end': datetime.datetime(2022, 3, 3, 0, 0)},\n",
       "  'period': '2022-02-01'},\n",
       " {'training': {'start': datetime.datetime(2021, 9, 2, 0, 0),\n",
       "   'end': datetime.datetime(2022, 3, 1, 0, 0)},\n",
       "  'validation': {'start': datetime.datetime(2022, 3, 1, 0, 0),\n",
       "   'end': datetime.datetime(2022, 3, 31, 0, 0)},\n",
       "  'period': '2022-03-01'}]"
      ]
     },
     "execution_count": 31,
     "metadata": {},
     "output_type": "execute_result"
    }
   ],
   "source": [
    "periods"
   ]
  },
  {
   "cell_type": "code",
   "execution_count": 32,
   "id": "bb5c4fa7",
   "metadata": {
    "papermill": {},
    "tags": []
   },
   "outputs": [],
   "source": [
    "df_t = pd.read_parquet(os.path.join(top_folder, 'asset_traits.parquet'), engine='pyarrow')\n",
    "df_a = pd.read_parquet(os.path.join(top_folder, 'assets.parquet'), engine='pyarrow')\n",
    "\n",
    "df_s = pd.read_parquet(os.path.join(top_folder, 'sales_with_trend.parquet'), engine='pyarrow')\n",
    "\n",
    "df_s = df_s[~df_s['outlier']]\n",
    "df_s = df_s.dropna(subset=[\"timestamp\", 'price_eth'])"
   ]
  },
  {
   "cell_type": "code",
   "execution_count": 33,
   "id": "c884681a",
   "metadata": {},
   "outputs": [],
   "source": [
    "df_t_s = df_t.copy()"
   ]
  },
  {
   "cell_type": "code",
   "execution_count": 34,
   "id": "34ef1a32",
   "metadata": {},
   "outputs": [],
   "source": [
    "df_t_s['frequency'] = df_t_s['trait_count'] / 10000\n",
    "ranks = df_t_s['trait_type'].unique()\n",
    "ranks = sorted(ranks)\n",
    "ranks = {\n",
    "    r: i for i,r in enumerate(ranks)\n",
    "}\n",
    "df_t_s['rank'] = df_t_s['trait_type'].map(ranks)"
   ]
  },
  {
   "cell_type": "code",
   "execution_count": 35,
   "id": "ec9d2cb4",
   "metadata": {},
   "outputs": [],
   "source": [
    "df_features = df_t_s.set_index(['asset_id', 'trait_type'])['trait_value'].unstack()\n",
    "feature_names = list(df_features.columns)"
   ]
  },
  {
   "cell_type": "code",
   "execution_count": 44,
   "id": "50dfca34",
   "metadata": {
    "papermill": {},
    "tags": []
   },
   "outputs": [],
   "source": [
    "target = 'price_eth_scaled_100'\n",
    "\n",
    "df = df_s.copy()\n",
    "# df[target] = np.log(df[target])\n",
    "\n",
    "\n",
    "df_preds = pd.DataFrame(index=df['asset_id'].unique())\n",
    "\n",
    "df_coefs = []\n",
    "cvscores = []\n",
    "scores = []\n",
    "\n",
    "\n",
    "one_hot_encoder = OneHotEncoder().fit(df_features)\n",
    "\n",
    "for p in periods:\n",
    "    y_training = select(df, **p['training']).groupby('asset_id')[target].median()\n",
    "    y_validation = select(df, **p['validation']).groupby('asset_id')[target].median()\n",
    "\n",
    "    # calculate cv score,\n",
    "    kf = KFold(n_splits=6, shuffle=True)\n",
    "    for cv_idx, (train, test) in enumerate(kf.split(y_training)):\n",
    "        y_train = y_training.iloc[train]\n",
    "        y_test = y_training.iloc[test]\n",
    "        x_train = df_features.loc[y_train.index].copy()\n",
    "        x_train_enc = one_hot_encoder.transform(x_train)\n",
    "\n",
    "        model = ElasticNet(alpha=0.05, l1_ratio=1)\n",
    "        model.fit(x_train_enc, y_train)\n",
    "\n",
    "        for shuffle_feature in feature_names + [None]:\n",
    "            x_test = df_features.loc[y_test.index].copy()\n",
    "            x_train = df_features.loc[y_train.index].copy()\n",
    "            if shuffle_feature is not None:\n",
    "                x_train[shuffle_feature] = x_train[shuffle_feature].sample(frac=1, replace=False).values\n",
    "                x_test[shuffle_feature] = x_test[shuffle_feature].sample(frac=1, replace=False).values\n",
    "\n",
    "            x_train_enc = one_hot_encoder.transform(x_train)\n",
    "            x_test_enc = one_hot_encoder.transform(x_test)\n",
    "\n",
    "            train_pred = model.predict(x_train_enc)\n",
    "            test_pred = model.predict(x_test_enc)\n",
    "            this_scores = [\n",
    "                dict(name='r2', set='train', value=r2_score(y_train, train_pred)),\n",
    "                dict(name='r2', set='test', value=r2_score(y_test, test_pred)),\n",
    "                dict(name='explained variance', set='train', value=explained_variance_score(y_train, train_pred)),\n",
    "                dict(name='explained variance', set='test',  value=explained_variance_score(y_test, test_pred)),\n",
    "            ]\n",
    "            info = dict(cv=cv_idx, shuffle_feature=shuffle_feature, period=p[\"period\"])\n",
    "            cvscores.extend({**ts, **info} for ts in this_scores)\n",
    "\n",
    "    x_training = df_features.loc[y_training.index]\n",
    "    x_validation = df_features.loc[y_validation.index]\n",
    "    x_training_enc = one_hot_encoder.transform(x_training)\n",
    "    x_validation_enc = one_hot_encoder.transform(x_validation)\n",
    "\n",
    "    model.fit(x_training_enc, y_training)\n",
    "    df_coef = pd.DataFrame(\n",
    "        {'feature_name': one_hot_encoder.get_feature_names_out(), \n",
    "        'coef': model.coef_, \n",
    "        'period': p[\"period\"]})\n",
    "    df_coefs.append(df_coef)\n",
    "\n",
    "    train_pred = model.predict(x_training_enc)\n",
    "    val_pred = model.predict(x_validation_enc)\n",
    "\n",
    "    this_scores = [\n",
    "        dict(name='r2', set='train', value=r2_score(y_training, train_pred)),\n",
    "        dict(name='r2', set='validation', value=r2_score(y_validation, val_pred)),\n",
    "        dict(name='explained variance', set='train', value=explained_variance_score(y_training, train_pred)),\n",
    "        dict(name='explained variance', set='validation',  value=explained_variance_score(y_validation, val_pred)),\n",
    "    ]\n",
    "    info = dict(period=p[\"period\"])\n",
    "    scores.extend({**ts, **info} for ts in this_scores)\n",
    "\n",
    "    df_preds[f'train_pred_{p[\"period\"]}'] = pd.Series(train_pred, index=y_training.index)\n",
    "    df_preds[f'val_pred_{p[\"period\"]}'] = pd.Series(val_pred, index=y_validation.index)\n",
    "    df_preds[f'train_true_{p[\"period\"]}'] = y_training\n",
    "    df_preds[f'val_true_{p[\"period\"]}'] = y_validation\n",
    "df_coefs = pd.concat(df_coefs)"
   ]
  },
  {
   "cell_type": "code",
   "execution_count": 45,
   "id": "c3fe211f",
   "metadata": {},
   "outputs": [
    {
     "data": {
      "text/plain": [
       "<seaborn.axisgrid.FacetGrid at 0x1348c4670>"
      ]
     },
     "execution_count": 45,
     "metadata": {},
     "output_type": "execute_result"
    },
    {
     "data": {
      "image/png": "[encoded data removed]",
      "text/plain": [
       "<Figure size 798.75x360 with 2 Axes>"
      ]
     },
     "metadata": {},
     "output_type": "display_data"
    }
   ],
   "source": [
    "scores_df = pd.DataFrame.from_records(scores)\n",
    "sns.set_style('whitegrid')\n",
    "sns.catplot(data=scores_df, y='value', x='period', hue='set', col='name', kind='bar')"
   ]
  },
  {
   "cell_type": "code",
   "execution_count": 46,
   "id": "1b26dcaf",
   "metadata": {},
   "outputs": [],
   "source": [
    "cvscores_df = pd.DataFrame.from_records(cvscores)\n",
    "cvscores_df_no_sf = cvscores_df[cvscores_df['shuffle_feature'].isnull()]\n",
    "cvscores_df_sf = cvscores_df[~cvscores_df['shuffle_feature'].isnull()]"
   ]
  },
  {
   "cell_type": "code",
   "execution_count": 47,
   "id": "356c85cb",
   "metadata": {},
   "outputs": [
    {
     "data": {
      "text/plain": [
       "<seaborn.axisgrid.FacetGrid at 0x1309c45b0>"
      ]
     },
     "execution_count": 47,
     "metadata": {},
     "output_type": "execute_result"
    },
    {
     "data": {
      "image/png": "[encoded data removed]",
      "text/plain": [
       "<Figure size 775.75x360 with 2 Axes>"
      ]
     },
     "metadata": {},
     "output_type": "display_data"
    }
   ],
   "source": [
    "sns.set_style('whitegrid')\n",
    "sns.catplot(data=cvscores_df_no_sf, y='value', x='period', hue='set', col='name', kind='bar')"
   ]
  },
  {
   "cell_type": "code",
   "execution_count": 49,
   "id": "6024d131",
   "metadata": {},
   "outputs": [
    {
     "data": {
      "text/html": [
       "<div>\n",
       "<style scoped>\n",
       "    .dataframe tbody tr th:only-of-type {\n",
       "        vertical-align: middle;\n",
       "    }\n",
       "\n",
       "    .dataframe tbody tr th {\n",
       "        vertical-align: top;\n",
       "    }\n",
       "\n",
       "    .dataframe thead th {\n",
       "        text-align: right;\n",
       "    }\n",
       "</style>\n",
       "<table border=\"1\" class=\"dataframe\">\n",
       "  <thead>\n",
       "    <tr style=\"text-align: right;\">\n",
       "      <th></th>\n",
       "      <th>name</th>\n",
       "      <th>set</th>\n",
       "      <th>value_shuffled</th>\n",
       "      <th>cv</th>\n",
       "      <th>shuffle_feature</th>\n",
       "      <th>period</th>\n",
       "      <th>value</th>\n",
       "      <th>diff</th>\n",
       "    </tr>\n",
       "  </thead>\n",
       "  <tbody>\n",
       "    <tr>\n",
       "      <th>0</th>\n",
       "      <td>r2</td>\n",
       "      <td>train</td>\n",
       "      <td>0.711007</td>\n",
       "      <td>0</td>\n",
       "      <td>Background</td>\n",
       "      <td>2022-01-01</td>\n",
       "      <td>0.711579</td>\n",
       "      <td>-0.000573</td>\n",
       "    </tr>\n",
       "    <tr>\n",
       "      <th>1</th>\n",
       "      <td>r2</td>\n",
       "      <td>train</td>\n",
       "      <td>0.560228</td>\n",
       "      <td>0</td>\n",
       "      <td>Clothes</td>\n",
       "      <td>2022-01-01</td>\n",
       "      <td>0.711579</td>\n",
       "      <td>-0.151351</td>\n",
       "    </tr>\n",
       "    <tr>\n",
       "      <th>2</th>\n",
       "      <td>r2</td>\n",
       "      <td>train</td>\n",
       "      <td>0.662263</td>\n",
       "      <td>0</td>\n",
       "      <td>Earring</td>\n",
       "      <td>2022-01-01</td>\n",
       "      <td>0.711579</td>\n",
       "      <td>-0.049316</td>\n",
       "    </tr>\n",
       "    <tr>\n",
       "      <th>3</th>\n",
       "      <td>r2</td>\n",
       "      <td>train</td>\n",
       "      <td>0.410548</td>\n",
       "      <td>0</td>\n",
       "      <td>Eyes</td>\n",
       "      <td>2022-01-01</td>\n",
       "      <td>0.711579</td>\n",
       "      <td>-0.301032</td>\n",
       "    </tr>\n",
       "    <tr>\n",
       "      <th>4</th>\n",
       "      <td>r2</td>\n",
       "      <td>train</td>\n",
       "      <td>0.485763</td>\n",
       "      <td>0</td>\n",
       "      <td>Fur</td>\n",
       "      <td>2022-01-01</td>\n",
       "      <td>0.711579</td>\n",
       "      <td>-0.225817</td>\n",
       "    </tr>\n",
       "  </tbody>\n",
       "</table>\n",
       "</div>"
      ],
      "text/plain": [
       "  name    set  value_shuffled  cv shuffle_feature      period     value  \\\n",
       "0   r2  train        0.711007   0      Background  2022-01-01  0.711579   \n",
       "1   r2  train        0.560228   0         Clothes  2022-01-01  0.711579   \n",
       "2   r2  train        0.662263   0         Earring  2022-01-01  0.711579   \n",
       "3   r2  train        0.410548   0            Eyes  2022-01-01  0.711579   \n",
       "4   r2  train        0.485763   0             Fur  2022-01-01  0.711579   \n",
       "\n",
       "       diff  \n",
       "0 -0.000573  \n",
       "1 -0.151351  \n",
       "2 -0.049316  \n",
       "3 -0.301032  \n",
       "4 -0.225817  "
      ]
     },
     "execution_count": 49,
     "metadata": {},
     "output_type": "execute_result"
    }
   ],
   "source": [
    "shuffle_df = cvscores_df_sf.merge(cvscores_df_no_sf.drop(columns=['shuffle_feature']), on=['name', 'set', 'cv', 'period'], suffixes=('_shuffled', ''))\n",
    "shuffle_df['diff'] = shuffle_df['value_shuffled'] - shuffle_df['value']\n",
    "shuffle_df.head()"
   ]
  },
  {
   "cell_type": "code",
   "execution_count": 50,
   "id": "94953b1f",
   "metadata": {},
   "outputs": [
    {
     "data": {
      "image/png": "[encoded data removed]",
      "text/plain": [
       "<Figure size 807.375x720 with 4 Axes>"
      ]
     },
     "metadata": {},
     "output_type": "display_data"
    }
   ],
   "source": [
    "g = sns.catplot(data=shuffle_df, y='diff', x='shuffle_feature', hue='period', row='set', col='name', kind='bar')\n",
    "g.savefig('shuffle_performance.png')"
   ]
  },
  {
   "cell_type": "code",
   "execution_count": 42,
   "id": "d0bffccc",
   "metadata": {},
   "outputs": [],
   "source": [
    "w = (\n",
    "    (shuffle_df['period'] == '2022-03-01') &\n",
    "    (shuffle_df['set'] == 'test')\n",
    ")\n",
    "\n",
    "shuffle_mean = shuffle_df[shuffle_df['period'] == '2022-03-01'].groupby(['name','shuffle_feature'])['diff'].mean()\n",
    "\n",
    "shuffle_mean.to_csv('shuffle_mean.csv')\n"
   ]
  },
  {
   "cell_type": "code",
   "execution_count": 43,
   "id": "e988e9e5",
   "metadata": {},
   "outputs": [
    {
     "ename": "MergeError",
     "evalue": "No common columns to perform merge on. Merge options: left_on=None, right_on=None, left_index=False, right_index=False",
     "output_type": "error",
     "traceback": [
      "\u001b[0;31m---------------------------------------------------------------------------\u001b[0m",
      "\u001b[0;31mMergeError\u001b[0m                                Traceback (most recent call last)",
      "\u001b[1;32m/Users/levinbrinkmann/repros/xai-nft/notebooks/model.ipynb Cell 17'\u001b[0m in \u001b[0;36m<cell line: 1>\u001b[0;34m()\u001b[0m\n\u001b[0;32m----> <a href='vscode-notebook-cell:/Users/levinbrinkmann/repros/xai-nft/notebooks/model.ipynb#ch0000015?line=0'>1</a>\u001b[0m df_coefs \u001b[39m=\u001b[39m df_coefs\u001b[39m.\u001b[39;49mmerge(df_t[[\u001b[39m'\u001b[39;49m\u001b[39mtrait_id\u001b[39;49m\u001b[39m'\u001b[39;49m, \u001b[39m'\u001b[39;49m\u001b[39mtrait_type\u001b[39;49m\u001b[39m'\u001b[39;49m, \u001b[39m'\u001b[39;49m\u001b[39mtrait_value\u001b[39;49m\u001b[39m'\u001b[39;49m]]\u001b[39m.\u001b[39;49mdrop_duplicates())\n\u001b[1;32m      <a href='vscode-notebook-cell:/Users/levinbrinkmann/repros/xai-nft/notebooks/model.ipynb#ch0000015?line=1'>2</a>\u001b[0m df_coefs\n",
      "File \u001b[0;32m~/repros/xai-nft/.venv/lib/python3.9/site-packages/pandas/core/frame.py:9345\u001b[0m, in \u001b[0;36mDataFrame.merge\u001b[0;34m(self, right, how, on, left_on, right_on, left_index, right_index, sort, suffixes, copy, indicator, validate)\u001b[0m\n\u001b[1;32m   <a href='file:///Users/levinbrinkmann/repros/xai-nft/.venv/lib/python3.9/site-packages/pandas/core/frame.py?line=9325'>9326</a>\u001b[0m \u001b[39m@Substitution\u001b[39m(\u001b[39m\"\u001b[39m\u001b[39m\"\u001b[39m)\n\u001b[1;32m   <a href='file:///Users/levinbrinkmann/repros/xai-nft/.venv/lib/python3.9/site-packages/pandas/core/frame.py?line=9326'>9327</a>\u001b[0m \u001b[39m@Appender\u001b[39m(_merge_doc, indents\u001b[39m=\u001b[39m\u001b[39m2\u001b[39m)\n\u001b[1;32m   <a href='file:///Users/levinbrinkmann/repros/xai-nft/.venv/lib/python3.9/site-packages/pandas/core/frame.py?line=9327'>9328</a>\u001b[0m \u001b[39mdef\u001b[39;00m \u001b[39mmerge\u001b[39m(\n\u001b[0;32m   (...)\u001b[0m\n\u001b[1;32m   <a href='file:///Users/levinbrinkmann/repros/xai-nft/.venv/lib/python3.9/site-packages/pandas/core/frame.py?line=9340'>9341</a>\u001b[0m     validate: \u001b[39mstr\u001b[39m \u001b[39m|\u001b[39m \u001b[39mNone\u001b[39;00m \u001b[39m=\u001b[39m \u001b[39mNone\u001b[39;00m,\n\u001b[1;32m   <a href='file:///Users/levinbrinkmann/repros/xai-nft/.venv/lib/python3.9/site-packages/pandas/core/frame.py?line=9341'>9342</a>\u001b[0m ) \u001b[39m-\u001b[39m\u001b[39m>\u001b[39m DataFrame:\n\u001b[1;32m   <a href='file:///Users/levinbrinkmann/repros/xai-nft/.venv/lib/python3.9/site-packages/pandas/core/frame.py?line=9342'>9343</a>\u001b[0m     \u001b[39mfrom\u001b[39;00m \u001b[39mpandas\u001b[39;00m\u001b[39m.\u001b[39;00m\u001b[39mcore\u001b[39;00m\u001b[39m.\u001b[39;00m\u001b[39mreshape\u001b[39;00m\u001b[39m.\u001b[39;00m\u001b[39mmerge\u001b[39;00m \u001b[39mimport\u001b[39;00m merge\n\u001b[0;32m-> <a href='file:///Users/levinbrinkmann/repros/xai-nft/.venv/lib/python3.9/site-packages/pandas/core/frame.py?line=9344'>9345</a>\u001b[0m     \u001b[39mreturn\u001b[39;00m merge(\n\u001b[1;32m   <a href='file:///Users/levinbrinkmann/repros/xai-nft/.venv/lib/python3.9/site-packages/pandas/core/frame.py?line=9345'>9346</a>\u001b[0m         \u001b[39mself\u001b[39;49m,\n\u001b[1;32m   <a href='file:///Users/levinbrinkmann/repros/xai-nft/.venv/lib/python3.9/site-packages/pandas/core/frame.py?line=9346'>9347</a>\u001b[0m         right,\n\u001b[1;32m   <a href='file:///Users/levinbrinkmann/repros/xai-nft/.venv/lib/python3.9/site-packages/pandas/core/frame.py?line=9347'>9348</a>\u001b[0m         how\u001b[39m=\u001b[39;49mhow,\n\u001b[1;32m   <a href='file:///Users/levinbrinkmann/repros/xai-nft/.venv/lib/python3.9/site-packages/pandas/core/frame.py?line=9348'>9349</a>\u001b[0m         on\u001b[39m=\u001b[39;49mon,\n\u001b[1;32m   <a href='file:///Users/levinbrinkmann/repros/xai-nft/.venv/lib/python3.9/site-packages/pandas/core/frame.py?line=9349'>9350</a>\u001b[0m         left_on\u001b[39m=\u001b[39;49mleft_on,\n\u001b[1;32m   <a href='file:///Users/levinbrinkmann/repros/xai-nft/.venv/lib/python3.9/site-packages/pandas/core/frame.py?line=9350'>9351</a>\u001b[0m         right_on\u001b[39m=\u001b[39;49mright_on,\n\u001b[1;32m   <a href='file:///Users/levinbrinkmann/repros/xai-nft/.venv/lib/python3.9/site-packages/pandas/core/frame.py?line=9351'>9352</a>\u001b[0m         left_index\u001b[39m=\u001b[39;49mleft_index,\n\u001b[1;32m   <a href='file:///Users/levinbrinkmann/repros/xai-nft/.venv/lib/python3.9/site-packages/pandas/core/frame.py?line=9352'>9353</a>\u001b[0m         right_index\u001b[39m=\u001b[39;49mright_index,\n\u001b[1;32m   <a href='file:///Users/levinbrinkmann/repros/xai-nft/.venv/lib/python3.9/site-packages/pandas/core/frame.py?line=9353'>9354</a>\u001b[0m         sort\u001b[39m=\u001b[39;49msort,\n\u001b[1;32m   <a href='file:///Users/levinbrinkmann/repros/xai-nft/.venv/lib/python3.9/site-packages/pandas/core/frame.py?line=9354'>9355</a>\u001b[0m         suffixes\u001b[39m=\u001b[39;49msuffixes,\n\u001b[1;32m   <a href='file:///Users/levinbrinkmann/repros/xai-nft/.venv/lib/python3.9/site-packages/pandas/core/frame.py?line=9355'>9356</a>\u001b[0m         copy\u001b[39m=\u001b[39;49mcopy,\n\u001b[1;32m   <a href='file:///Users/levinbrinkmann/repros/xai-nft/.venv/lib/python3.9/site-packages/pandas/core/frame.py?line=9356'>9357</a>\u001b[0m         indicator\u001b[39m=\u001b[39;49mindicator,\n\u001b[1;32m   <a href='file:///Users/levinbrinkmann/repros/xai-nft/.venv/lib/python3.9/site-packages/pandas/core/frame.py?line=9357'>9358</a>\u001b[0m         validate\u001b[39m=\u001b[39;49mvalidate,\n\u001b[1;32m   <a href='file:///Users/levinbrinkmann/repros/xai-nft/.venv/lib/python3.9/site-packages/pandas/core/frame.py?line=9358'>9359</a>\u001b[0m     )\n",
      "File \u001b[0;32m~/repros/xai-nft/.venv/lib/python3.9/site-packages/pandas/core/reshape/merge.py:107\u001b[0m, in \u001b[0;36mmerge\u001b[0;34m(left, right, how, on, left_on, right_on, left_index, right_index, sort, suffixes, copy, indicator, validate)\u001b[0m\n\u001b[1;32m     <a href='file:///Users/levinbrinkmann/repros/xai-nft/.venv/lib/python3.9/site-packages/pandas/core/reshape/merge.py?line=89'>90</a>\u001b[0m \u001b[39m@Substitution\u001b[39m(\u001b[39m\"\u001b[39m\u001b[39m\\n\u001b[39;00m\u001b[39mleft : DataFrame or named Series\u001b[39m\u001b[39m\"\u001b[39m)\n\u001b[1;32m     <a href='file:///Users/levinbrinkmann/repros/xai-nft/.venv/lib/python3.9/site-packages/pandas/core/reshape/merge.py?line=90'>91</a>\u001b[0m \u001b[39m@Appender\u001b[39m(_merge_doc, indents\u001b[39m=\u001b[39m\u001b[39m0\u001b[39m)\n\u001b[1;32m     <a href='file:///Users/levinbrinkmann/repros/xai-nft/.venv/lib/python3.9/site-packages/pandas/core/reshape/merge.py?line=91'>92</a>\u001b[0m \u001b[39mdef\u001b[39;00m \u001b[39mmerge\u001b[39m(\n\u001b[0;32m   (...)\u001b[0m\n\u001b[1;32m    <a href='file:///Users/levinbrinkmann/repros/xai-nft/.venv/lib/python3.9/site-packages/pandas/core/reshape/merge.py?line=104'>105</a>\u001b[0m     validate: \u001b[39mstr\u001b[39m \u001b[39m|\u001b[39m \u001b[39mNone\u001b[39;00m \u001b[39m=\u001b[39m \u001b[39mNone\u001b[39;00m,\n\u001b[1;32m    <a href='file:///Users/levinbrinkmann/repros/xai-nft/.venv/lib/python3.9/site-packages/pandas/core/reshape/merge.py?line=105'>106</a>\u001b[0m ) \u001b[39m-\u001b[39m\u001b[39m>\u001b[39m DataFrame:\n\u001b[0;32m--> <a href='file:///Users/levinbrinkmann/repros/xai-nft/.venv/lib/python3.9/site-packages/pandas/core/reshape/merge.py?line=106'>107</a>\u001b[0m     op \u001b[39m=\u001b[39m _MergeOperation(\n\u001b[1;32m    <a href='file:///Users/levinbrinkmann/repros/xai-nft/.venv/lib/python3.9/site-packages/pandas/core/reshape/merge.py?line=107'>108</a>\u001b[0m         left,\n\u001b[1;32m    <a href='file:///Users/levinbrinkmann/repros/xai-nft/.venv/lib/python3.9/site-packages/pandas/core/reshape/merge.py?line=108'>109</a>\u001b[0m         right,\n\u001b[1;32m    <a href='file:///Users/levinbrinkmann/repros/xai-nft/.venv/lib/python3.9/site-packages/pandas/core/reshape/merge.py?line=109'>110</a>\u001b[0m         how\u001b[39m=\u001b[39;49mhow,\n\u001b[1;32m    <a href='file:///Users/levinbrinkmann/repros/xai-nft/.venv/lib/python3.9/site-packages/pandas/core/reshape/merge.py?line=110'>111</a>\u001b[0m         on\u001b[39m=\u001b[39;49mon,\n\u001b[1;32m    <a href='file:///Users/levinbrinkmann/repros/xai-nft/.venv/lib/python3.9/site-packages/pandas/core/reshape/merge.py?line=111'>112</a>\u001b[0m         left_on\u001b[39m=\u001b[39;49mleft_on,\n\u001b[1;32m    <a href='file:///Users/levinbrinkmann/repros/xai-nft/.venv/lib/python3.9/site-packages/pandas/core/reshape/merge.py?line=112'>113</a>\u001b[0m         right_on\u001b[39m=\u001b[39;49mright_on,\n\u001b[1;32m    <a href='file:///Users/levinbrinkmann/repros/xai-nft/.venv/lib/python3.9/site-packages/pandas/core/reshape/merge.py?line=113'>114</a>\u001b[0m         left_index\u001b[39m=\u001b[39;49mleft_index,\n\u001b[1;32m    <a href='file:///Users/levinbrinkmann/repros/xai-nft/.venv/lib/python3.9/site-packages/pandas/core/reshape/merge.py?line=114'>115</a>\u001b[0m         right_index\u001b[39m=\u001b[39;49mright_index,\n\u001b[1;32m    <a href='file:///Users/levinbrinkmann/repros/xai-nft/.venv/lib/python3.9/site-packages/pandas/core/reshape/merge.py?line=115'>116</a>\u001b[0m         sort\u001b[39m=\u001b[39;49msort,\n\u001b[1;32m    <a href='file:///Users/levinbrinkmann/repros/xai-nft/.venv/lib/python3.9/site-packages/pandas/core/reshape/merge.py?line=116'>117</a>\u001b[0m         suffixes\u001b[39m=\u001b[39;49msuffixes,\n\u001b[1;32m    <a href='file:///Users/levinbrinkmann/repros/xai-nft/.venv/lib/python3.9/site-packages/pandas/core/reshape/merge.py?line=117'>118</a>\u001b[0m         copy\u001b[39m=\u001b[39;49mcopy,\n\u001b[1;32m    <a href='file:///Users/levinbrinkmann/repros/xai-nft/.venv/lib/python3.9/site-packages/pandas/core/reshape/merge.py?line=118'>119</a>\u001b[0m         indicator\u001b[39m=\u001b[39;49mindicator,\n\u001b[1;32m    <a href='file:///Users/levinbrinkmann/repros/xai-nft/.venv/lib/python3.9/site-packages/pandas/core/reshape/merge.py?line=119'>120</a>\u001b[0m         validate\u001b[39m=\u001b[39;49mvalidate,\n\u001b[1;32m    <a href='file:///Users/levinbrinkmann/repros/xai-nft/.venv/lib/python3.9/site-packages/pandas/core/reshape/merge.py?line=120'>121</a>\u001b[0m     )\n\u001b[1;32m    <a href='file:///Users/levinbrinkmann/repros/xai-nft/.venv/lib/python3.9/site-packages/pandas/core/reshape/merge.py?line=121'>122</a>\u001b[0m     \u001b[39mreturn\u001b[39;00m op\u001b[39m.\u001b[39mget_result()\n",
      "File \u001b[0;32m~/repros/xai-nft/.venv/lib/python3.9/site-packages/pandas/core/reshape/merge.py:682\u001b[0m, in \u001b[0;36m_MergeOperation.__init__\u001b[0;34m(self, left, right, how, on, left_on, right_on, axis, left_index, right_index, sort, suffixes, copy, indicator, validate)\u001b[0m\n\u001b[1;32m    <a href='file:///Users/levinbrinkmann/repros/xai-nft/.venv/lib/python3.9/site-packages/pandas/core/reshape/merge.py?line=677'>678</a>\u001b[0m     \u001b[39m# stacklevel chosen to be correct when this is reached via pd.merge\u001b[39;00m\n\u001b[1;32m    <a href='file:///Users/levinbrinkmann/repros/xai-nft/.venv/lib/python3.9/site-packages/pandas/core/reshape/merge.py?line=678'>679</a>\u001b[0m     \u001b[39m# (and not DataFrame.join)\u001b[39;00m\n\u001b[1;32m    <a href='file:///Users/levinbrinkmann/repros/xai-nft/.venv/lib/python3.9/site-packages/pandas/core/reshape/merge.py?line=679'>680</a>\u001b[0m     warnings\u001b[39m.\u001b[39mwarn(msg, \u001b[39mFutureWarning\u001b[39;00m, stacklevel\u001b[39m=\u001b[39mfind_stack_level())\n\u001b[0;32m--> <a href='file:///Users/levinbrinkmann/repros/xai-nft/.venv/lib/python3.9/site-packages/pandas/core/reshape/merge.py?line=681'>682</a>\u001b[0m \u001b[39mself\u001b[39;49m\u001b[39m.\u001b[39;49m_validate_specification()\n\u001b[1;32m    <a href='file:///Users/levinbrinkmann/repros/xai-nft/.venv/lib/python3.9/site-packages/pandas/core/reshape/merge.py?line=683'>684</a>\u001b[0m cross_col \u001b[39m=\u001b[39m \u001b[39mNone\u001b[39;00m\n\u001b[1;32m    <a href='file:///Users/levinbrinkmann/repros/xai-nft/.venv/lib/python3.9/site-packages/pandas/core/reshape/merge.py?line=684'>685</a>\u001b[0m \u001b[39mif\u001b[39;00m \u001b[39mself\u001b[39m\u001b[39m.\u001b[39mhow \u001b[39m==\u001b[39m \u001b[39m\"\u001b[39m\u001b[39mcross\u001b[39m\u001b[39m\"\u001b[39m:\n",
      "File \u001b[0;32m~/repros/xai-nft/.venv/lib/python3.9/site-packages/pandas/core/reshape/merge.py:1349\u001b[0m, in \u001b[0;36m_MergeOperation._validate_specification\u001b[0;34m(self)\u001b[0m\n\u001b[1;32m   <a href='file:///Users/levinbrinkmann/repros/xai-nft/.venv/lib/python3.9/site-packages/pandas/core/reshape/merge.py?line=1346'>1347</a>\u001b[0m common_cols \u001b[39m=\u001b[39m left_cols\u001b[39m.\u001b[39mintersection(right_cols)\n\u001b[1;32m   <a href='file:///Users/levinbrinkmann/repros/xai-nft/.venv/lib/python3.9/site-packages/pandas/core/reshape/merge.py?line=1347'>1348</a>\u001b[0m \u001b[39mif\u001b[39;00m \u001b[39mlen\u001b[39m(common_cols) \u001b[39m==\u001b[39m \u001b[39m0\u001b[39m:\n\u001b[0;32m-> <a href='file:///Users/levinbrinkmann/repros/xai-nft/.venv/lib/python3.9/site-packages/pandas/core/reshape/merge.py?line=1348'>1349</a>\u001b[0m     \u001b[39mraise\u001b[39;00m MergeError(\n\u001b[1;32m   <a href='file:///Users/levinbrinkmann/repros/xai-nft/.venv/lib/python3.9/site-packages/pandas/core/reshape/merge.py?line=1349'>1350</a>\u001b[0m         \u001b[39m\"\u001b[39m\u001b[39mNo common columns to perform merge on. \u001b[39m\u001b[39m\"\u001b[39m\n\u001b[1;32m   <a href='file:///Users/levinbrinkmann/repros/xai-nft/.venv/lib/python3.9/site-packages/pandas/core/reshape/merge.py?line=1350'>1351</a>\u001b[0m         \u001b[39mf\u001b[39m\u001b[39m\"\u001b[39m\u001b[39mMerge options: left_on=\u001b[39m\u001b[39m{\u001b[39;00m\u001b[39mself\u001b[39m\u001b[39m.\u001b[39mleft_on\u001b[39m}\u001b[39;00m\u001b[39m, \u001b[39m\u001b[39m\"\u001b[39m\n\u001b[1;32m   <a href='file:///Users/levinbrinkmann/repros/xai-nft/.venv/lib/python3.9/site-packages/pandas/core/reshape/merge.py?line=1351'>1352</a>\u001b[0m         \u001b[39mf\u001b[39m\u001b[39m\"\u001b[39m\u001b[39mright_on=\u001b[39m\u001b[39m{\u001b[39;00m\u001b[39mself\u001b[39m\u001b[39m.\u001b[39mright_on\u001b[39m}\u001b[39;00m\u001b[39m, \u001b[39m\u001b[39m\"\u001b[39m\n\u001b[1;32m   <a href='file:///Users/levinbrinkmann/repros/xai-nft/.venv/lib/python3.9/site-packages/pandas/core/reshape/merge.py?line=1352'>1353</a>\u001b[0m         \u001b[39mf\u001b[39m\u001b[39m\"\u001b[39m\u001b[39mleft_index=\u001b[39m\u001b[39m{\u001b[39;00m\u001b[39mself\u001b[39m\u001b[39m.\u001b[39mleft_index\u001b[39m}\u001b[39;00m\u001b[39m, \u001b[39m\u001b[39m\"\u001b[39m\n\u001b[1;32m   <a href='file:///Users/levinbrinkmann/repros/xai-nft/.venv/lib/python3.9/site-packages/pandas/core/reshape/merge.py?line=1353'>1354</a>\u001b[0m         \u001b[39mf\u001b[39m\u001b[39m\"\u001b[39m\u001b[39mright_index=\u001b[39m\u001b[39m{\u001b[39;00m\u001b[39mself\u001b[39m\u001b[39m.\u001b[39mright_index\u001b[39m}\u001b[39;00m\u001b[39m\"\u001b[39m\n\u001b[1;32m   <a href='file:///Users/levinbrinkmann/repros/xai-nft/.venv/lib/python3.9/site-packages/pandas/core/reshape/merge.py?line=1354'>1355</a>\u001b[0m     )\n\u001b[1;32m   <a href='file:///Users/levinbrinkmann/repros/xai-nft/.venv/lib/python3.9/site-packages/pandas/core/reshape/merge.py?line=1355'>1356</a>\u001b[0m \u001b[39mif\u001b[39;00m (\n\u001b[1;32m   <a href='file:///Users/levinbrinkmann/repros/xai-nft/.venv/lib/python3.9/site-packages/pandas/core/reshape/merge.py?line=1356'>1357</a>\u001b[0m     \u001b[39mnot\u001b[39;00m left_cols\u001b[39m.\u001b[39mjoin(common_cols, how\u001b[39m=\u001b[39m\u001b[39m\"\u001b[39m\u001b[39minner\u001b[39m\u001b[39m\"\u001b[39m)\u001b[39m.\u001b[39mis_unique\n\u001b[1;32m   <a href='file:///Users/levinbrinkmann/repros/xai-nft/.venv/lib/python3.9/site-packages/pandas/core/reshape/merge.py?line=1357'>1358</a>\u001b[0m     \u001b[39mor\u001b[39;00m \u001b[39mnot\u001b[39;00m right_cols\u001b[39m.\u001b[39mjoin(common_cols, how\u001b[39m=\u001b[39m\u001b[39m\"\u001b[39m\u001b[39minner\u001b[39m\u001b[39m\"\u001b[39m)\u001b[39m.\u001b[39mis_unique\n\u001b[1;32m   <a href='file:///Users/levinbrinkmann/repros/xai-nft/.venv/lib/python3.9/site-packages/pandas/core/reshape/merge.py?line=1358'>1359</a>\u001b[0m ):\n\u001b[1;32m   <a href='file:///Users/levinbrinkmann/repros/xai-nft/.venv/lib/python3.9/site-packages/pandas/core/reshape/merge.py?line=1359'>1360</a>\u001b[0m     \u001b[39mraise\u001b[39;00m MergeError(\u001b[39mf\u001b[39m\u001b[39m\"\u001b[39m\u001b[39mData columns not unique: \u001b[39m\u001b[39m{\u001b[39;00m\u001b[39mrepr\u001b[39m(common_cols)\u001b[39m}\u001b[39;00m\u001b[39m\"\u001b[39m)\n",
      "\u001b[0;31mMergeError\u001b[0m: No common columns to perform merge on. Merge options: left_on=None, right_on=None, left_index=False, right_index=False"
     ]
    }
   ],
   "source": [
    "df_coefs = df_coefs.merge(df_t[['trait_id', 'trait_type', 'trait_value']].drop_duplicates())\n",
    "df_coefs"
   ]
  },
  {
   "cell_type": "code",
   "execution_count": null,
   "id": "be52b332",
   "metadata": {},
   "outputs": [
    {
     "data": {
      "text/plain": [
       "0.38372093023255816"
      ]
     },
     "execution_count": 58,
     "metadata": {},
     "output_type": "execute_result"
    }
   ],
   "source": [
    "(df_coefs[df_coefs['period'] == '2022-03-01']['coef'] > 0.001).mean()"
   ]
  },
  {
   "cell_type": "code",
   "execution_count": null,
   "id": "7398e81d",
   "metadata": {},
   "outputs": [
    {
     "data": {
      "text/html": [
       "<div>\n",
       "<style scoped>\n",
       "    .dataframe tbody tr th:only-of-type {\n",
       "        vertical-align: middle;\n",
       "    }\n",
       "\n",
       "    .dataframe tbody tr th {\n",
       "        vertical-align: top;\n",
       "    }\n",
       "\n",
       "    .dataframe thead th {\n",
       "        text-align: right;\n",
       "    }\n",
       "</style>\n",
       "<table border=\"1\" class=\"dataframe\">\n",
       "  <thead>\n",
       "    <tr style=\"text-align: right;\">\n",
       "      <th></th>\n",
       "      <th>train_pred_2022-01-01</th>\n",
       "      <th>val_pred_2022-01-01</th>\n",
       "      <th>train_true_2022-01-01</th>\n",
       "      <th>val_true_2022-01-01</th>\n",
       "      <th>train_pred_2022-02-01</th>\n",
       "      <th>val_pred_2022-02-01</th>\n",
       "      <th>train_true_2022-02-01</th>\n",
       "      <th>val_true_2022-02-01</th>\n",
       "      <th>train_pred_2022-03-01</th>\n",
       "      <th>val_pred_2022-03-01</th>\n",
       "      <th>train_true_2022-03-01</th>\n",
       "      <th>val_true_2022-03-01</th>\n",
       "    </tr>\n",
       "  </thead>\n",
       "  <tbody>\n",
       "    <tr>\n",
       "      <th>22646197</th>\n",
       "      <td>111.811598</td>\n",
       "      <td>NaN</td>\n",
       "      <td>130.689431</td>\n",
       "      <td>NaN</td>\n",
       "      <td>113.405074</td>\n",
       "      <td>NaN</td>\n",
       "      <td>130.689431</td>\n",
       "      <td>NaN</td>\n",
       "      <td>116.386406</td>\n",
       "      <td>NaN</td>\n",
       "      <td>130.689431</td>\n",
       "      <td>NaN</td>\n",
       "    </tr>\n",
       "    <tr>\n",
       "      <th>22646208</th>\n",
       "      <td>NaN</td>\n",
       "      <td>NaN</td>\n",
       "      <td>NaN</td>\n",
       "      <td>NaN</td>\n",
       "      <td>NaN</td>\n",
       "      <td>NaN</td>\n",
       "      <td>NaN</td>\n",
       "      <td>NaN</td>\n",
       "      <td>NaN</td>\n",
       "      <td>NaN</td>\n",
       "      <td>NaN</td>\n",
       "      <td>NaN</td>\n",
       "    </tr>\n",
       "    <tr>\n",
       "      <th>22646211</th>\n",
       "      <td>177.850144</td>\n",
       "      <td>NaN</td>\n",
       "      <td>194.014151</td>\n",
       "      <td>NaN</td>\n",
       "      <td>173.553161</td>\n",
       "      <td>NaN</td>\n",
       "      <td>194.014151</td>\n",
       "      <td>NaN</td>\n",
       "      <td>157.521025</td>\n",
       "      <td>NaN</td>\n",
       "      <td>194.014151</td>\n",
       "      <td>NaN</td>\n",
       "    </tr>\n",
       "    <tr>\n",
       "      <th>22646214</th>\n",
       "      <td>133.436009</td>\n",
       "      <td>NaN</td>\n",
       "      <td>218.704762</td>\n",
       "      <td>NaN</td>\n",
       "      <td>NaN</td>\n",
       "      <td>NaN</td>\n",
       "      <td>NaN</td>\n",
       "      <td>NaN</td>\n",
       "      <td>NaN</td>\n",
       "      <td>NaN</td>\n",
       "      <td>NaN</td>\n",
       "      <td>NaN</td>\n",
       "    </tr>\n",
       "    <tr>\n",
       "      <th>22646220</th>\n",
       "      <td>NaN</td>\n",
       "      <td>NaN</td>\n",
       "      <td>NaN</td>\n",
       "      <td>NaN</td>\n",
       "      <td>NaN</td>\n",
       "      <td>NaN</td>\n",
       "      <td>NaN</td>\n",
       "      <td>NaN</td>\n",
       "      <td>NaN</td>\n",
       "      <td>108.00519</td>\n",
       "      <td>NaN</td>\n",
       "      <td>118.599614</td>\n",
       "    </tr>\n",
       "  </tbody>\n",
       "</table>\n",
       "</div>"
      ],
      "text/plain": [
       "          train_pred_2022-01-01  val_pred_2022-01-01  train_true_2022-01-01  \\\n",
       "22646197             111.811598                  NaN             130.689431   \n",
       "22646208                    NaN                  NaN                    NaN   \n",
       "22646211             177.850144                  NaN             194.014151   \n",
       "22646214             133.436009                  NaN             218.704762   \n",
       "22646220                    NaN                  NaN                    NaN   \n",
       "\n",
       "          val_true_2022-01-01  train_pred_2022-02-01  val_pred_2022-02-01  \\\n",
       "22646197                  NaN             113.405074                  NaN   \n",
       "22646208                  NaN                    NaN                  NaN   \n",
       "22646211                  NaN             173.553161                  NaN   \n",
       "22646214                  NaN                    NaN                  NaN   \n",
       "22646220                  NaN                    NaN                  NaN   \n",
       "\n",
       "          train_true_2022-02-01  val_true_2022-02-01  train_pred_2022-03-01  \\\n",
       "22646197             130.689431                  NaN             116.386406   \n",
       "22646208                    NaN                  NaN                    NaN   \n",
       "22646211             194.014151                  NaN             157.521025   \n",
       "22646214                    NaN                  NaN                    NaN   \n",
       "22646220                    NaN                  NaN                    NaN   \n",
       "\n",
       "          val_pred_2022-03-01  train_true_2022-03-01  val_true_2022-03-01  \n",
       "22646197                  NaN             130.689431                  NaN  \n",
       "22646208                  NaN                    NaN                  NaN  \n",
       "22646211                  NaN             194.014151                  NaN  \n",
       "22646214                  NaN                    NaN                  NaN  \n",
       "22646220            108.00519                    NaN           118.599614  "
      ]
     },
     "execution_count": 59,
     "metadata": {},
     "output_type": "execute_result"
    }
   ],
   "source": [
    "df_preds.head()"
   ]
  },
  {
   "cell_type": "code",
   "execution_count": null,
   "id": "24af6715",
   "metadata": {},
   "outputs": [],
   "source": []
  },
  {
   "cell_type": "code",
   "execution_count": null,
   "id": "cd35d948",
   "metadata": {},
   "outputs": [
    {
     "data": {
      "text/plain": [
       "<AxesSubplot:xlabel='val_pred_2022-03-01', ylabel='val_true_2022-03-01'>"
      ]
     },
     "execution_count": 60,
     "metadata": {},
     "output_type": "execute_result"
    },
    {
     "data": {
      "image/png": "[encoded data removed]",
      "text/plain": [
       "<Figure size 432x288 with 1 Axes>"
      ]
     },
     "metadata": {
      "needs_background": "light"
     },
     "output_type": "display_data"
    }
   ],
   "source": [
    "sns.scatterplot(data=df_preds, x='val_pred_2022-03-01', y='val_true_2022-03-01')"
   ]
  },
  {
   "cell_type": "code",
   "execution_count": null,
   "id": "3c3db277",
   "metadata": {},
   "outputs": [],
   "source": [
    "df_at = df_t_s.groupby('asset_id')[\n",
    "    ['trait_type', 'trait_value', 'trait_count', 'rarity_score', 'frequency', 'rank']].apply(lambda df: df.to_dict(orient='records'))\n",
    "\n",
    "df_aa = df_a.set_index('asset_id')[\n",
    "    ['token_id', 'collection', 'image_url', 'image_preview_url', 'image_thumbnail_url']]\n",
    "\n",
    "df = df_aa.copy()\n",
    "df['traits'] = df_at\n",
    "df['history_eth'] = df_preds['train_true_2022-03-01']\n",
    "df['sales_eth'] = df_preds['val_true_2022-03-01']\n",
    "df['pred_eth'] = df_preds['val_pred_2022-03-01']\n",
    "\n",
    "df = df[~(df['history_eth'].isna() & df['sales_eth'].isna())]\n",
    "\n",
    "df_sales = df.copy()\n",
    "\n",
    "df[['history_eth','sales_eth','pred_eth']] = df[['history_eth','sales_eth','pred_eth']].fillna(-1.)\n",
    "\n",
    "save_json(df.to_dict(orient='records'), os.path.join(top_folder, 'bayc_2022-03-01.json'))"
   ]
  },
  {
   "cell_type": "code",
   "execution_count": null,
   "id": "315d2bda",
   "metadata": {},
   "outputs": [],
   "source": [
    "df_asset_coefs = df_coefs[df_coefs['period'] == '2022-03-01'] \\\n",
    "    .merge(df_t_s[['asset_id','trait_id']]) \\\n",
    "    .merge(df_a[['asset_id', 'token_id']]) \\\n",
    "    .merge(df_sales[['token_id', 'history_eth', 'sales_eth', 'pred_eth']])[['token_id', 'trait_type', 'trait_value', 'coef', 'history_eth', 'sales_eth', 'pred_eth']] \\\n",
    "\n",
    "df_asset_coefs.to_csv(os.path.join(top_folder, 'bayc_asset_coefficients_2022-03-01.csv'))"
   ]
  },
  {
   "cell_type": "code",
   "execution_count": null,
   "id": "af8318b1",
   "metadata": {},
   "outputs": [
    {
     "name": "stdout",
     "output_type": "stream",
     "text": [
      "<class 'pandas.core.frame.DataFrame'>\n",
      "Int64Index: 20273 entries, 0 to 20272\n",
      "Data columns (total 7 columns):\n",
      " #   Column       Non-Null Count  Dtype  \n",
      "---  ------       --------------  -----  \n",
      " 0   token_id     20273 non-null  object \n",
      " 1   trait_type   20273 non-null  object \n",
      " 2   trait_value  20273 non-null  object \n",
      " 3   coef         20273 non-null  float64\n",
      " 4   history_eth  18259 non-null  float64\n",
      " 5   sales_eth    3727 non-null   float64\n",
      " 6   pred_eth     3727 non-null   float64\n",
      "dtypes: float64(4), object(3)\n",
      "memory usage: 1.2+ MB\n"
     ]
    }
   ],
   "source": [
    "df_asset_coefs.info()"
   ]
  },
  {
   "cell_type": "code",
   "execution_count": null,
   "id": "1157db6f",
   "metadata": {},
   "outputs": [],
   "source": [
    "df_coefs[df_coefs['period'] == '2022-03-01'][['trait_type', 'trait_value','coef', ]].to_csv(os.path.join(top_folder, 'bayc_coefficients_2022-03-01.csv'))"
   ]
  }
 ],
 "metadata": {
  "interpreter": {
   "hash": "6358d2b37cadaf68da9f88457ea7b9933bd525c81ef3c979dca47c51e7682d4e"
  },
  "kernelspec": {
   "display_name": "Python 3.9.10 ('.venv': venv)",
   "language": "python",
   "name": "python3"
  },
  "language_info": {
   "codemirror_mode": {
    "name": "ipython",
    "version": 3
   },
   "file_extension": ".py",
   "mimetype": "text/x-python",
   "name": "python",
   "nbconvert_exporter": "python",
   "pygments_lexer": "ipython3",
   "version": "3.9.10"
  },
  "papermill": {
   "default_parameters": {},
   "environment_variables": {},
   "input_path": "notebooks/model.ipynb",
   "output_path": "notebooks/model.ipynb",
   "parameters": {
    "top_folder": "../data/top_collections"
   },
   "version": "2.3.4"
  }
 },
 "nbformat": 4,
 "nbformat_minor": 5
}
