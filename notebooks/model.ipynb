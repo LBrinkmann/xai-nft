{
 "cells": [
  {
   "cell_type": "code",
   "execution_count": 45,
   "id": "4c09d1f7",
   "metadata": {
    "tags": [
     "injected-parameters"
    ]
   },
   "outputs": [],
   "source": [
    "# Parameters\n",
    "top_folder = \"../data/top_collections\"\n"
   ]
  },
  {
   "cell_type": "code",
   "execution_count": 46,
   "id": "b63bc4b4",
   "metadata": {
    "papermill": {},
    "tags": []
   },
   "outputs": [
    {
     "name": "stdout",
     "output_type": "stream",
     "text": [
      "The autoreload extension is already loaded. To reload it, use:\n",
      "  %reload_ext autoreload\n"
     ]
    }
   ],
   "source": [
    "%load_ext autoreload\n",
    "%autoreload 2\n",
    "\n",
    "\n",
    "import os\n",
    "import pandas as pd\n",
    "import numpy as np\n",
    "import datetime\n",
    "import seaborn as sns\n",
    "import random\n",
    "from xai.utils.data import make_dir, save_json\n",
    "from sklearn.linear_model import ElasticNet, LinearRegression\n",
    "\n",
    "from sklearn.metrics import r2_score, explained_variance_score\n"
   ]
  },
  {
   "cell_type": "code",
   "execution_count": 47,
   "id": "9a0caa1b",
   "metadata": {},
   "outputs": [],
   "source": [
    "np.random.seed(42)\n",
    "random.seed(42)"
   ]
  },
  {
   "cell_type": "code",
   "execution_count": 48,
   "id": "ea9fb01f",
   "metadata": {
    "papermill": {},
    "tags": []
   },
   "outputs": [],
   "source": [
    "cuts = [f'2022-0{i}-01' for i in range(1,4)]\n",
    "validation_days = 30\n",
    "training_days = 30*6\n",
    "\n",
    "periods = [\n",
    "    {\n",
    "        'training': {\n",
    "            'start': datetime.datetime.fromisoformat(cut) - datetime.timedelta(days=training_days),\n",
    "            'end': datetime.datetime.fromisoformat(cut)\n",
    "        },\n",
    "        'validation': {\n",
    "            'start': datetime.datetime.fromisoformat(cut),\n",
    "            'end': datetime.datetime.fromisoformat(cut) + datetime.timedelta(days=validation_days)\n",
    "        },\n",
    "        'period': cut\n",
    "    }\n",
    "    for cut in cuts\n",
    "]\n",
    "\n",
    "def select(df, start, end):\n",
    "    w = (\n",
    "        (df['timestamp'] < end) &\n",
    "        (df['timestamp'] >= start)\n",
    "    )\n",
    "    return df[w]"
   ]
  },
  {
   "cell_type": "code",
   "execution_count": 73,
   "id": "782510ba",
   "metadata": {},
   "outputs": [
    {
     "data": {
      "text/plain": [
       "[{'training': {'start': datetime.datetime(2021, 7, 5, 0, 0),\n",
       "   'end': datetime.datetime(2022, 1, 1, 0, 0)},\n",
       "  'validation': {'start': datetime.datetime(2022, 1, 1, 0, 0),\n",
       "   'end': datetime.datetime(2022, 1, 31, 0, 0)},\n",
       "  'period': '2022-01-01'},\n",
       " {'training': {'start': datetime.datetime(2021, 8, 5, 0, 0),\n",
       "   'end': datetime.datetime(2022, 2, 1, 0, 0)},\n",
       "  'validation': {'start': datetime.datetime(2022, 2, 1, 0, 0),\n",
       "   'end': datetime.datetime(2022, 3, 3, 0, 0)},\n",
       "  'period': '2022-02-01'},\n",
       " {'training': {'start': datetime.datetime(2021, 9, 2, 0, 0),\n",
       "   'end': datetime.datetime(2022, 3, 1, 0, 0)},\n",
       "  'validation': {'start': datetime.datetime(2022, 3, 1, 0, 0),\n",
       "   'end': datetime.datetime(2022, 3, 31, 0, 0)},\n",
       "  'period': '2022-03-01'}]"
      ]
     },
     "execution_count": 73,
     "metadata": {},
     "output_type": "execute_result"
    }
   ],
   "source": [
    "periods"
   ]
  },
  {
   "cell_type": "code",
   "execution_count": 49,
   "id": "bb5c4fa7",
   "metadata": {
    "papermill": {},
    "tags": []
   },
   "outputs": [],
   "source": [
    "df_t = pd.read_parquet(os.path.join(top_folder, 'asset_traits.parquet'), engine='pyarrow')\n",
    "df_a = pd.read_parquet(os.path.join(top_folder, 'assets.parquet'), engine='pyarrow')\n",
    "\n",
    "df_s = pd.read_parquet(os.path.join(top_folder, 'sales_with_trend.parquet'), engine='pyarrow')\n",
    "\n",
    "df_s = df_s[~df_s['outlier']]\n",
    "df_s = df_s.dropna(subset=[\"timestamp\", 'price_eth'])"
   ]
  },
  {
   "cell_type": "code",
   "execution_count": 50,
   "id": "c884681a",
   "metadata": {},
   "outputs": [],
   "source": [
    "df_t_s = df_t.copy()\n",
    "# asset_id_7_traits = df_t_s[df_t_s['trait_id'] == 'TraitCount_7'].asset_id.tolist()\n",
    "# df_t_s = df_t_s[df_t_s['asset_id'].isin(asset_id_7_traits)]\n",
    "# df_t_s = df_t_s[df_t_s['trait_type'] != 'TraitCount']"
   ]
  },
  {
   "cell_type": "code",
   "execution_count": 51,
   "id": "34ef1a32",
   "metadata": {},
   "outputs": [],
   "source": [
    "df_t_s['frequency'] = df_t_s['trait_count'] / 10000\n",
    "ranks = df_t_s['trait_type'].unique()\n",
    "ranks = sorted(ranks)\n",
    "ranks = {\n",
    "    r: i for i,r in enumerate(ranks)\n",
    "}\n",
    "df_t_s['rank'] = df_t_s['trait_type'].map(ranks)"
   ]
  },
  {
   "cell_type": "code",
   "execution_count": 52,
   "id": "5d3be1f7",
   "metadata": {
    "papermill": {},
    "tags": []
   },
   "outputs": [],
   "source": [
    "df_t_enc = df_t_s.pivot_table(\n",
    "    index='asset_id', columns='trait_id', values='trait_value', aggfunc='count') \\\n",
    "    .fillna(0).astype(int)\n",
    "feature_names = df_t_enc.columns.tolist()\n",
    "df_t_enc = df_t_enc.reset_index()\n",
    "df_p_enr = df_t_enc.merge(df_s, how='inner')"
   ]
  },
  {
   "cell_type": "code",
   "execution_count": 53,
   "id": "dbe9ac83",
   "metadata": {},
   "outputs": [],
   "source": [
    "df_p_enr['log_price_eth_scaled_100'] = np.log(df_p_enr['price_eth_scaled_100'])"
   ]
  },
  {
   "cell_type": "code",
   "execution_count": 54,
   "id": "50dfca34",
   "metadata": {
    "papermill": {},
    "tags": []
   },
   "outputs": [
    {
     "name": "stdout",
     "output_type": "stream",
     "text": [
      "4208 791\n",
      "Validation starting with 2022-01-01\n",
      "In-Sample R2 0.7076961673611232\n",
      "Out-Sample R2 0.21979688143154041\n",
      "In-Sample exp var 0.7076961673611231\n",
      "Out-Sample exp var 0.286878814008676\n",
      "3407 306\n",
      "Validation starting with 2022-02-01\n",
      "In-Sample R2 0.6029663046234339\n",
      "Out-Sample R2 0.1549966678182494\n",
      "In-Sample exp var 0.6029663046234339\n",
      "Out-Sample exp var 0.35488817345390633\n",
      "2645 544\n",
      "Validation starting with 2022-03-01\n",
      "In-Sample R2 0.5964990724581916\n",
      "Out-Sample R2 0.33418737964569134\n",
      "In-Sample exp var 0.5964990724581916\n",
      "Out-Sample exp var 0.3357022561467069\n"
     ]
    }
   ],
   "source": [
    "target = 'price_eth_scaled_100'\n",
    "\n",
    "df = df_p_enr[feature_names + [target, 'asset_id', 'timestamp']]\n",
    "\n",
    "df_preds = pd.DataFrame(index=df_p_enr['asset_id'].unique())\n",
    "\n",
    "df_coefs = []\n",
    "\n",
    "for p in periods:\n",
    "    df_training = select(df, **p['training']).groupby('asset_id').median()\n",
    "    df_validation = select(df, **p['validation']).groupby('asset_id').median()\n",
    "\n",
    "    print(len(df_training), len(df_validation))\n",
    "\n",
    "    model = ElasticNet(alpha=0.05, l1_ratio=1)\n",
    "    # model = LinearRegression()\n",
    "    model.fit(df_training[feature_names], df_training[target])\n",
    "    df_coef = pd.DataFrame({'trait_id': feature_names, 'coef': model.coef_, 'period': p[\"period\"]})\n",
    "    df_coefs.append(df_coef)\n",
    "\n",
    "    train_pred = model.predict(df_training[feature_names])\n",
    "    val_pred = model.predict(df_validation[feature_names])\n",
    "    df_preds[f'train_pred_{p[\"period\"]}'] = pd.Series(train_pred, index=df_training.index)\n",
    "    df_preds[f'val_pred_{p[\"period\"]}'] = pd.Series(val_pred, index=df_validation.index)\n",
    "    df_preds[f'train_true_{p[\"period\"]}'] = df_training[target]\n",
    "    df_preds[f'val_true_{p[\"period\"]}'] = df_validation[target]\n",
    "\n",
    "    \n",
    "\n",
    "    r2_train = r2_score(df_training[target], train_pred)\n",
    "    r2_val = r2_score(df_validation[target], val_pred)\n",
    "    expvar_train = explained_variance_score(df_training[target], train_pred)\n",
    "    expvar_val = explained_variance_score(df_validation[target], val_pred)\n",
    "\n",
    "    print(f'Validation starting with {p[\"period\"]}')\n",
    "    print(f'In-Sample R2 {r2_train}')\n",
    "    print(f'Out-Sample R2 {r2_val}')\n",
    "    print(f'In-Sample exp var {expvar_train}')\n",
    "    print(f'Out-Sample exp var {expvar_val}')\n",
    "df_coefs = pd.concat(df_coefs)"
   ]
  },
  {
   "cell_type": "code",
   "execution_count": 55,
   "id": "096748d2",
   "metadata": {},
   "outputs": [
    {
     "data": {
      "text/plain": [
       "0.6899810964083176"
      ]
     },
     "execution_count": 55,
     "metadata": {},
     "output_type": "execute_result"
    }
   ],
   "source": [
    "((np.abs(df_training[target] - train_pred) / df_training[target]) < 0.1).mean()"
   ]
  },
  {
   "cell_type": "code",
   "execution_count": 56,
   "id": "c76f8d7a",
   "metadata": {},
   "outputs": [
    {
     "data": {
      "text/plain": [
       "0.6066176470588235"
      ]
     },
     "execution_count": 56,
     "metadata": {},
     "output_type": "execute_result"
    }
   ],
   "source": [
    "((np.abs(df_validation[target] - val_pred) / df_validation[target]) < 0.1).mean()"
   ]
  },
  {
   "cell_type": "code",
   "execution_count": 57,
   "id": "e988e9e5",
   "metadata": {},
   "outputs": [
    {
     "data": {
      "text/html": [
       "<div>\n",
       "<style scoped>\n",
       "    .dataframe tbody tr th:only-of-type {\n",
       "        vertical-align: middle;\n",
       "    }\n",
       "\n",
       "    .dataframe tbody tr th {\n",
       "        vertical-align: top;\n",
       "    }\n",
       "\n",
       "    .dataframe thead th {\n",
       "        text-align: right;\n",
       "    }\n",
       "</style>\n",
       "<table border=\"1\" class=\"dataframe\">\n",
       "  <thead>\n",
       "    <tr style=\"text-align: right;\">\n",
       "      <th></th>\n",
       "      <th>trait_id</th>\n",
       "      <th>coef</th>\n",
       "      <th>period</th>\n",
       "      <th>trait_type</th>\n",
       "      <th>trait_value</th>\n",
       "    </tr>\n",
       "  </thead>\n",
       "  <tbody>\n",
       "    <tr>\n",
       "      <th>0</th>\n",
       "      <td>Background_Aquamarine</td>\n",
       "      <td>0.000000</td>\n",
       "      <td>2022-01-01</td>\n",
       "      <td>Background</td>\n",
       "      <td>Aquamarine</td>\n",
       "    </tr>\n",
       "    <tr>\n",
       "      <th>1</th>\n",
       "      <td>Background_Aquamarine</td>\n",
       "      <td>0.254197</td>\n",
       "      <td>2022-02-01</td>\n",
       "      <td>Background</td>\n",
       "      <td>Aquamarine</td>\n",
       "    </tr>\n",
       "    <tr>\n",
       "      <th>2</th>\n",
       "      <td>Background_Aquamarine</td>\n",
       "      <td>-0.000000</td>\n",
       "      <td>2022-03-01</td>\n",
       "      <td>Background</td>\n",
       "      <td>Aquamarine</td>\n",
       "    </tr>\n",
       "    <tr>\n",
       "      <th>3</th>\n",
       "      <td>Background_Army Green</td>\n",
       "      <td>-0.000000</td>\n",
       "      <td>2022-01-01</td>\n",
       "      <td>Background</td>\n",
       "      <td>Army Green</td>\n",
       "    </tr>\n",
       "    <tr>\n",
       "      <th>4</th>\n",
       "      <td>Background_Army Green</td>\n",
       "      <td>-0.972310</td>\n",
       "      <td>2022-02-01</td>\n",
       "      <td>Background</td>\n",
       "      <td>Army Green</td>\n",
       "    </tr>\n",
       "    <tr>\n",
       "      <th>...</th>\n",
       "      <td>...</td>\n",
       "      <td>...</td>\n",
       "      <td>...</td>\n",
       "      <td>...</td>\n",
       "      <td>...</td>\n",
       "    </tr>\n",
       "    <tr>\n",
       "      <th>511</th>\n",
       "      <td>TraitCount_6</td>\n",
       "      <td>-4.225338</td>\n",
       "      <td>2022-02-01</td>\n",
       "      <td>TraitCount</td>\n",
       "      <td>6</td>\n",
       "    </tr>\n",
       "    <tr>\n",
       "      <th>512</th>\n",
       "      <td>TraitCount_6</td>\n",
       "      <td>-2.846660</td>\n",
       "      <td>2022-03-01</td>\n",
       "      <td>TraitCount</td>\n",
       "      <td>6</td>\n",
       "    </tr>\n",
       "    <tr>\n",
       "      <th>513</th>\n",
       "      <td>TraitCount_7</td>\n",
       "      <td>5.087722</td>\n",
       "      <td>2022-01-01</td>\n",
       "      <td>TraitCount</td>\n",
       "      <td>7</td>\n",
       "    </tr>\n",
       "    <tr>\n",
       "      <th>514</th>\n",
       "      <td>TraitCount_7</td>\n",
       "      <td>4.259595</td>\n",
       "      <td>2022-02-01</td>\n",
       "      <td>TraitCount</td>\n",
       "      <td>7</td>\n",
       "    </tr>\n",
       "    <tr>\n",
       "      <th>515</th>\n",
       "      <td>TraitCount_7</td>\n",
       "      <td>2.811809</td>\n",
       "      <td>2022-03-01</td>\n",
       "      <td>TraitCount</td>\n",
       "      <td>7</td>\n",
       "    </tr>\n",
       "  </tbody>\n",
       "</table>\n",
       "<p>516 rows × 5 columns</p>\n",
       "</div>"
      ],
      "text/plain": [
       "                  trait_id      coef      period  trait_type trait_value\n",
       "0    Background_Aquamarine  0.000000  2022-01-01  Background  Aquamarine\n",
       "1    Background_Aquamarine  0.254197  2022-02-01  Background  Aquamarine\n",
       "2    Background_Aquamarine -0.000000  2022-03-01  Background  Aquamarine\n",
       "3    Background_Army Green -0.000000  2022-01-01  Background  Army Green\n",
       "4    Background_Army Green -0.972310  2022-02-01  Background  Army Green\n",
       "..                     ...       ...         ...         ...         ...\n",
       "511           TraitCount_6 -4.225338  2022-02-01  TraitCount           6\n",
       "512           TraitCount_6 -2.846660  2022-03-01  TraitCount           6\n",
       "513           TraitCount_7  5.087722  2022-01-01  TraitCount           7\n",
       "514           TraitCount_7  4.259595  2022-02-01  TraitCount           7\n",
       "515           TraitCount_7  2.811809  2022-03-01  TraitCount           7\n",
       "\n",
       "[516 rows x 5 columns]"
      ]
     },
     "execution_count": 57,
     "metadata": {},
     "output_type": "execute_result"
    }
   ],
   "source": [
    "df_coefs = df_coefs.merge(df_t[['trait_id', 'trait_type', 'trait_value']].drop_duplicates())\n",
    "df_coefs"
   ]
  },
  {
   "cell_type": "code",
   "execution_count": 58,
   "id": "be52b332",
   "metadata": {},
   "outputs": [
    {
     "data": {
      "text/plain": [
       "0.38372093023255816"
      ]
     },
     "execution_count": 58,
     "metadata": {},
     "output_type": "execute_result"
    }
   ],
   "source": [
    "(df_coefs[df_coefs['period'] == '2022-03-01']['coef'] > 0.001).mean()"
   ]
  },
  {
   "cell_type": "code",
   "execution_count": 59,
   "id": "7398e81d",
   "metadata": {},
   "outputs": [
    {
     "data": {
      "text/html": [
       "<div>\n",
       "<style scoped>\n",
       "    .dataframe tbody tr th:only-of-type {\n",
       "        vertical-align: middle;\n",
       "    }\n",
       "\n",
       "    .dataframe tbody tr th {\n",
       "        vertical-align: top;\n",
       "    }\n",
       "\n",
       "    .dataframe thead th {\n",
       "        text-align: right;\n",
       "    }\n",
       "</style>\n",
       "<table border=\"1\" class=\"dataframe\">\n",
       "  <thead>\n",
       "    <tr style=\"text-align: right;\">\n",
       "      <th></th>\n",
       "      <th>train_pred_2022-01-01</th>\n",
       "      <th>val_pred_2022-01-01</th>\n",
       "      <th>train_true_2022-01-01</th>\n",
       "      <th>val_true_2022-01-01</th>\n",
       "      <th>train_pred_2022-02-01</th>\n",
       "      <th>val_pred_2022-02-01</th>\n",
       "      <th>train_true_2022-02-01</th>\n",
       "      <th>val_true_2022-02-01</th>\n",
       "      <th>train_pred_2022-03-01</th>\n",
       "      <th>val_pred_2022-03-01</th>\n",
       "      <th>train_true_2022-03-01</th>\n",
       "      <th>val_true_2022-03-01</th>\n",
       "    </tr>\n",
       "  </thead>\n",
       "  <tbody>\n",
       "    <tr>\n",
       "      <th>22646197</th>\n",
       "      <td>111.811598</td>\n",
       "      <td>NaN</td>\n",
       "      <td>130.689431</td>\n",
       "      <td>NaN</td>\n",
       "      <td>113.405074</td>\n",
       "      <td>NaN</td>\n",
       "      <td>130.689431</td>\n",
       "      <td>NaN</td>\n",
       "      <td>116.386406</td>\n",
       "      <td>NaN</td>\n",
       "      <td>130.689431</td>\n",
       "      <td>NaN</td>\n",
       "    </tr>\n",
       "    <tr>\n",
       "      <th>22646208</th>\n",
       "      <td>NaN</td>\n",
       "      <td>NaN</td>\n",
       "      <td>NaN</td>\n",
       "      <td>NaN</td>\n",
       "      <td>NaN</td>\n",
       "      <td>NaN</td>\n",
       "      <td>NaN</td>\n",
       "      <td>NaN</td>\n",
       "      <td>NaN</td>\n",
       "      <td>NaN</td>\n",
       "      <td>NaN</td>\n",
       "      <td>NaN</td>\n",
       "    </tr>\n",
       "    <tr>\n",
       "      <th>22646211</th>\n",
       "      <td>177.850144</td>\n",
       "      <td>NaN</td>\n",
       "      <td>194.014151</td>\n",
       "      <td>NaN</td>\n",
       "      <td>173.553161</td>\n",
       "      <td>NaN</td>\n",
       "      <td>194.014151</td>\n",
       "      <td>NaN</td>\n",
       "      <td>157.521025</td>\n",
       "      <td>NaN</td>\n",
       "      <td>194.014151</td>\n",
       "      <td>NaN</td>\n",
       "    </tr>\n",
       "    <tr>\n",
       "      <th>22646214</th>\n",
       "      <td>133.436009</td>\n",
       "      <td>NaN</td>\n",
       "      <td>218.704762</td>\n",
       "      <td>NaN</td>\n",
       "      <td>NaN</td>\n",
       "      <td>NaN</td>\n",
       "      <td>NaN</td>\n",
       "      <td>NaN</td>\n",
       "      <td>NaN</td>\n",
       "      <td>NaN</td>\n",
       "      <td>NaN</td>\n",
       "      <td>NaN</td>\n",
       "    </tr>\n",
       "    <tr>\n",
       "      <th>22646220</th>\n",
       "      <td>NaN</td>\n",
       "      <td>NaN</td>\n",
       "      <td>NaN</td>\n",
       "      <td>NaN</td>\n",
       "      <td>NaN</td>\n",
       "      <td>NaN</td>\n",
       "      <td>NaN</td>\n",
       "      <td>NaN</td>\n",
       "      <td>NaN</td>\n",
       "      <td>108.00519</td>\n",
       "      <td>NaN</td>\n",
       "      <td>118.599614</td>\n",
       "    </tr>\n",
       "  </tbody>\n",
       "</table>\n",
       "</div>"
      ],
      "text/plain": [
       "          train_pred_2022-01-01  val_pred_2022-01-01  train_true_2022-01-01  \\\n",
       "22646197             111.811598                  NaN             130.689431   \n",
       "22646208                    NaN                  NaN                    NaN   \n",
       "22646211             177.850144                  NaN             194.014151   \n",
       "22646214             133.436009                  NaN             218.704762   \n",
       "22646220                    NaN                  NaN                    NaN   \n",
       "\n",
       "          val_true_2022-01-01  train_pred_2022-02-01  val_pred_2022-02-01  \\\n",
       "22646197                  NaN             113.405074                  NaN   \n",
       "22646208                  NaN                    NaN                  NaN   \n",
       "22646211                  NaN             173.553161                  NaN   \n",
       "22646214                  NaN                    NaN                  NaN   \n",
       "22646220                  NaN                    NaN                  NaN   \n",
       "\n",
       "          train_true_2022-02-01  val_true_2022-02-01  train_pred_2022-03-01  \\\n",
       "22646197             130.689431                  NaN             116.386406   \n",
       "22646208                    NaN                  NaN                    NaN   \n",
       "22646211             194.014151                  NaN             157.521025   \n",
       "22646214                    NaN                  NaN                    NaN   \n",
       "22646220                    NaN                  NaN                    NaN   \n",
       "\n",
       "          val_pred_2022-03-01  train_true_2022-03-01  val_true_2022-03-01  \n",
       "22646197                  NaN             130.689431                  NaN  \n",
       "22646208                  NaN                    NaN                  NaN  \n",
       "22646211                  NaN             194.014151                  NaN  \n",
       "22646214                  NaN                    NaN                  NaN  \n",
       "22646220            108.00519                    NaN           118.599614  "
      ]
     },
     "execution_count": 59,
     "metadata": {},
     "output_type": "execute_result"
    }
   ],
   "source": [
    "df_preds.head()"
   ]
  },
  {
   "cell_type": "code",
   "execution_count": null,
   "id": "24af6715",
   "metadata": {},
   "outputs": [],
   "source": []
  },
  {
   "cell_type": "code",
   "execution_count": 60,
   "id": "cd35d948",
   "metadata": {},
   "outputs": [
    {
     "data": {
      "text/plain": [
       "<AxesSubplot:xlabel='val_pred_2022-03-01', ylabel='val_true_2022-03-01'>"
      ]
     },
     "execution_count": 60,
     "metadata": {},
     "output_type": "execute_result"
    },
    {
     "data": {
      "image/png": "[encoded data removed]",
      "text/plain": [
       "<Figure size 432x288 with 1 Axes>"
      ]
     },
     "metadata": {
      "needs_background": "light"
     },
     "output_type": "display_data"
    }
   ],
   "source": [
    "sns.scatterplot(data=df_preds, x='val_pred_2022-03-01', y='val_true_2022-03-01')"
   ]
  },
  {
   "cell_type": "code",
   "execution_count": 66,
   "id": "3c3db277",
   "metadata": {},
   "outputs": [],
   "source": [
    "df_at = df_t_s.groupby('asset_id')[\n",
    "    ['trait_type', 'trait_value', 'trait_count', 'rarity_score', 'frequency', 'rank']].apply(lambda df: df.to_dict(orient='records'))\n",
    "\n",
    "df_aa = df_a.set_index('asset_id')[\n",
    "    ['token_id', 'collection', 'image_url', 'image_preview_url', 'image_thumbnail_url']]\n",
    "\n",
    "df = df_aa.copy()\n",
    "df['traits'] = df_at\n",
    "df['history_eth'] = df_preds['train_true_2022-03-01']\n",
    "df['sales_eth'] = df_preds['val_true_2022-03-01']\n",
    "df['pred_eth'] = df_preds['val_pred_2022-03-01']\n",
    "\n",
    "df = df[~(df['history_eth'].isna() & df['sales_eth'].isna())]\n",
    "\n",
    "df_sales = df.copy()\n",
    "\n",
    "df[['history_eth','sales_eth','pred_eth']] = df[['history_eth','sales_eth','pred_eth']].fillna(-1.)\n",
    "\n",
    "save_json(df.to_dict(orient='records'), os.path.join(top_folder, 'bayc_2022-03-01.json'))"
   ]
  },
  {
   "cell_type": "code",
   "execution_count": 69,
   "id": "315d2bda",
   "metadata": {},
   "outputs": [],
   "source": [
    "df_asset_coefs = df_coefs[df_coefs['period'] == '2022-03-01'] \\\n",
    "    .merge(df_t_s[['asset_id','trait_id']]) \\\n",
    "    .merge(df_a[['asset_id', 'token_id']]) \\\n",
    "    .merge(df_sales[['token_id', 'history_eth', 'sales_eth', 'pred_eth']])[['token_id', 'trait_type', 'trait_value', 'coef', 'history_eth', 'sales_eth', 'pred_eth']] \\\n",
    "\n",
    "df_asset_coefs.to_csv(os.path.join(top_folder, 'bayc_asset_coefficients_2022-03-01.csv'))"
   ]
  },
  {
   "cell_type": "code",
   "execution_count": 72,
   "id": "af8318b1",
   "metadata": {},
   "outputs": [
    {
     "name": "stdout",
     "output_type": "stream",
     "text": [
      "<class 'pandas.core.frame.DataFrame'>\n",
      "Int64Index: 20273 entries, 0 to 20272\n",
      "Data columns (total 7 columns):\n",
      " #   Column       Non-Null Count  Dtype  \n",
      "---  ------       --------------  -----  \n",
      " 0   token_id     20273 non-null  object \n",
      " 1   trait_type   20273 non-null  object \n",
      " 2   trait_value  20273 non-null  object \n",
      " 3   coef         20273 non-null  float64\n",
      " 4   history_eth  18259 non-null  float64\n",
      " 5   sales_eth    3727 non-null   float64\n",
      " 6   pred_eth     3727 non-null   float64\n",
      "dtypes: float64(4), object(3)\n",
      "memory usage: 1.2+ MB\n"
     ]
    }
   ],
   "source": [
    "df_asset_coefs.info()"
   ]
  },
  {
   "cell_type": "code",
   "execution_count": 63,
   "id": "1157db6f",
   "metadata": {},
   "outputs": [],
   "source": [
    "df_coefs[df_coefs['period'] == '2022-03-01'][['trait_type', 'trait_value','coef', ]].to_csv(os.path.join(top_folder, 'bayc_coefficients_2022-03-01.csv'))"
   ]
  }
 ],
 "metadata": {
  "interpreter": {
   "hash": "6358d2b37cadaf68da9f88457ea7b9933bd525c81ef3c979dca47c51e7682d4e"
  },
  "kernelspec": {
   "display_name": "Python 3.9.10 ('.venv': venv)",
   "language": "python",
   "name": "python3"
  },
  "language_info": {
   "codemirror_mode": {
    "name": "ipython",
    "version": 3
   },
   "file_extension": ".py",
   "mimetype": "text/x-python",
   "name": "python",
   "nbconvert_exporter": "python",
   "pygments_lexer": "ipython3",
   "version": "3.9.10"
  },
  "papermill": {
   "default_parameters": {},
   "environment_variables": {},
   "input_path": "notebooks/model.ipynb",
   "output_path": "notebooks/model.ipynb",
   "parameters": {
    "top_folder": "../data/top_collections"
   },
   "version": "2.3.4"
  }
 },
 "nbformat": 4,
 "nbformat_minor": 5
}
