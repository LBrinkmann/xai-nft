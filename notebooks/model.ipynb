{
 "cells": [
  {
   "cell_type": "code",
   "execution_count": 27,
   "id": "4c09d1f7",
   "metadata": {
    "tags": [
     "injected-parameters"
    ]
   },
   "outputs": [],
   "source": [
    "# Parameters\n",
    "top_folder = \"../data/top_collections\"\n"
   ]
  },
  {
   "cell_type": "code",
   "execution_count": 28,
   "id": "b63bc4b4",
   "metadata": {
    "papermill": {},
    "tags": []
   },
   "outputs": [
    {
     "name": "stdout",
     "output_type": "stream",
     "text": [
      "The autoreload extension is already loaded. To reload it, use:\n",
      "  %reload_ext autoreload\n"
     ]
    }
   ],
   "source": [
    "%load_ext autoreload\n",
    "%autoreload 2\n",
    "\n",
    "\n",
    "import os\n",
    "import pandas as pd\n",
    "import numpy as np\n",
    "import datetime\n",
    "import seaborn as sns\n",
    "import random\n",
    "from xai.utils.data import save_json\n",
    "from sklearn.linear_model import ElasticNet\n",
    "from sklearn.pipeline import Pipeline\n",
    "from sklearn.preprocessing import OneHotEncoder\n",
    "\n",
    "from sklearn.metrics import r2_score, explained_variance_score\n",
    "from sklearn.model_selection import KFold\n"
   ]
  },
  {
   "cell_type": "code",
   "execution_count": 29,
   "id": "9a0caa1b",
   "metadata": {},
   "outputs": [],
   "source": [
    "np.random.seed(42)\n",
    "random.seed(42)"
   ]
  },
  {
   "cell_type": "code",
   "execution_count": 30,
   "id": "ea9fb01f",
   "metadata": {
    "papermill": {},
    "tags": []
   },
   "outputs": [],
   "source": [
    "cuts = [f'2022-0{i}-01' for i in range(1,4)]\n",
    "validation_days = 30\n",
    "training_days = 30*6\n",
    "\n",
    "periods = [\n",
    "    {\n",
    "        'training': {\n",
    "            'start': datetime.datetime.fromisoformat(cut) - datetime.timedelta(days=training_days),\n",
    "            'end': datetime.datetime.fromisoformat(cut)\n",
    "        },\n",
    "        'validation': {\n",
    "            'start': datetime.datetime.fromisoformat(cut),\n",
    "            'end': datetime.datetime.fromisoformat(cut) + datetime.timedelta(days=validation_days)\n",
    "        },\n",
    "        'period': cut\n",
    "    }\n",
    "    for cut in cuts\n",
    "]\n",
    "\n",
    "def select(df, start, end):\n",
    "    w = (\n",
    "        (df['timestamp'] < end) &\n",
    "        (df['timestamp'] >= start)\n",
    "    )\n",
    "    return df[w]"
   ]
  },
  {
   "cell_type": "code",
   "execution_count": 31,
   "id": "782510ba",
   "metadata": {},
   "outputs": [
    {
     "data": {
      "text/plain": [
       "[{'training': {'start': datetime.datetime(2021, 7, 5, 0, 0),\n",
       "   'end': datetime.datetime(2022, 1, 1, 0, 0)},\n",
       "  'validation': {'start': datetime.datetime(2022, 1, 1, 0, 0),\n",
       "   'end': datetime.datetime(2022, 1, 31, 0, 0)},\n",
       "  'period': '2022-01-01'},\n",
       " {'training': {'start': datetime.datetime(2021, 8, 5, 0, 0),\n",
       "   'end': datetime.datetime(2022, 2, 1, 0, 0)},\n",
       "  'validation': {'start': datetime.datetime(2022, 2, 1, 0, 0),\n",
       "   'end': datetime.datetime(2022, 3, 3, 0, 0)},\n",
       "  'period': '2022-02-01'},\n",
       " {'training': {'start': datetime.datetime(2021, 9, 2, 0, 0),\n",
       "   'end': datetime.datetime(2022, 3, 1, 0, 0)},\n",
       "  'validation': {'start': datetime.datetime(2022, 3, 1, 0, 0),\n",
       "   'end': datetime.datetime(2022, 3, 31, 0, 0)},\n",
       "  'period': '2022-03-01'}]"
      ]
     },
     "execution_count": 31,
     "metadata": {},
     "output_type": "execute_result"
    }
   ],
   "source": [
    "periods"
   ]
  },
  {
   "cell_type": "code",
   "execution_count": 32,
   "id": "bb5c4fa7",
   "metadata": {
    "papermill": {},
    "tags": []
   },
   "outputs": [],
   "source": [
    "df_t = pd.read_parquet(os.path.join(top_folder, 'asset_traits.parquet'), engine='pyarrow')\n",
    "df_a = pd.read_parquet(os.path.join(top_folder, 'assets.parquet'), engine='pyarrow')\n",
    "\n",
    "df_s = pd.read_parquet(os.path.join(top_folder, 'sales_with_trend.parquet'), engine='pyarrow')\n",
    "\n",
    "df_s = df_s[~df_s['outlier']]\n",
    "df_s = df_s.dropna(subset=[\"timestamp\", 'price_eth'])"
   ]
  },
  {
   "cell_type": "code",
   "execution_count": 33,
   "id": "c884681a",
   "metadata": {},
   "outputs": [],
   "source": [
    "df_t_s = df_t.copy()"
   ]
  },
  {
   "cell_type": "code",
   "execution_count": 34,
   "id": "34ef1a32",
   "metadata": {},
   "outputs": [],
   "source": [
    "df_t_s['frequency'] = df_t_s['trait_count'] / 10000\n",
    "ranks = df_t_s['trait_type'].unique()\n",
    "ranks = sorted(ranks)\n",
    "ranks = {\n",
    "    r: i for i,r in enumerate(ranks)\n",
    "}\n",
    "df_t_s['rank'] = df_t_s['trait_type'].map(ranks)"
   ]
  },
  {
   "cell_type": "code",
   "execution_count": 35,
   "id": "ec9d2cb4",
   "metadata": {},
   "outputs": [],
   "source": [
    "df_features = df_t_s.set_index(['asset_id', 'trait_type'])['trait_value'].unstack()\n",
    "feature_names = list(df_features.columns)"
   ]
  },
  {
   "cell_type": "code",
   "execution_count": 51,
   "id": "50dfca34",
   "metadata": {
    "papermill": {},
    "tags": []
   },
   "outputs": [],
   "source": [
    "target = 'price_eth_scaled_100'\n",
    "\n",
    "df = df_s.copy()\n",
    "# df[target] = np.log(df[target])\n",
    "\n",
    "\n",
    "df_preds = pd.DataFrame(index=df['asset_id'].unique())\n",
    "\n",
    "df_coefs = []\n",
    "cvscores = []\n",
    "scores = []\n",
    "\n",
    "\n",
    "one_hot_encoder = OneHotEncoder().fit(df_features)\n",
    "\n",
    "for p in periods:\n",
    "    y_training = select(df, **p['training']).groupby('asset_id')[target].median()\n",
    "    y_validation = select(df, **p['validation']).groupby('asset_id')[target].median()\n",
    "\n",
    "    # calculate cv score,\n",
    "    kf = KFold(n_splits=6, shuffle=True)\n",
    "    for cv_idx, (train, test) in enumerate(kf.split(y_training)):\n",
    "        y_train = y_training.iloc[train]\n",
    "        y_test = y_training.iloc[test]\n",
    "        for shuffle_feature in feature_names + [None]:\n",
    "            x_test = df_features.loc[y_test.index].copy()\n",
    "            x_train = df_features.loc[y_train.index].copy()\n",
    "            if shuffle_feature is not None:\n",
    "                x_train[shuffle_feature] = x_train[shuffle_feature].sample(frac=1, replace=False).values\n",
    "\n",
    "            x_train_enc = one_hot_encoder.transform(x_train)\n",
    "            x_test_enc = one_hot_encoder.transform(x_test)\n",
    "\n",
    "            model = ElasticNet(alpha=0.05, l1_ratio=1)\n",
    "            model.fit(x_train_enc, y_train)\n",
    "            train_pred = model.predict(x_train_enc)\n",
    "            test_pred = model.predict(x_test_enc)\n",
    "            this_scores = [\n",
    "                dict(name='r2', set='train', value=r2_score(y_train, train_pred)),\n",
    "                dict(name='r2', set='test', value=r2_score(y_test, test_pred)),\n",
    "                dict(name='explained variance', set='train', value=explained_variance_score(y_train, train_pred)),\n",
    "                dict(name='explained variance', set='test',  value=explained_variance_score(y_test, test_pred)),\n",
    "            ]\n",
    "            info = dict(cv=cv_idx, shuffle_feature=shuffle_feature, period=p[\"period\"])\n",
    "            cvscores.extend({**ts, **info} for ts in this_scores)\n",
    "\n",
    "    x_training = df_features.loc[y_training.index]\n",
    "    x_validation = df_features.loc[y_validation.index]\n",
    "    x_training_enc = one_hot_encoder.transform(x_training)\n",
    "    x_validation_enc = one_hot_encoder.transform(x_validation)\n",
    "\n",
    "    model.fit(x_training_enc, y_training)\n",
    "    df_coef = pd.DataFrame(\n",
    "        {'feature_name': one_hot_encoder.get_feature_names_out(), \n",
    "        'coef': model.coef_, \n",
    "        'period': p[\"period\"]})\n",
    "    df_coefs.append(df_coef)\n",
    "\n",
    "    train_pred = model.predict(x_training_enc)\n",
    "    val_pred = model.predict(x_validation_enc)\n",
    "\n",
    "    this_scores = [\n",
    "        dict(name='r2', set='train', value=r2_score(y_training, train_pred)),\n",
    "        dict(name='r2', set='validation', value=r2_score(y_validation, val_pred)),\n",
    "        dict(name='explained variance', set='train', value=explained_variance_score(y_training, train_pred)),\n",
    "        dict(name='explained variance', set='validation',  value=explained_variance_score(y_validation, val_pred)),\n",
    "    ]\n",
    "    info = dict(period=p[\"period\"])\n",
    "    scores.extend({**ts, **info} for ts in this_scores)\n",
    "\n",
    "    df_preds[f'train_pred_{p[\"period\"]}'] = pd.Series(train_pred, index=y_training.index)\n",
    "    df_preds[f'val_pred_{p[\"period\"]}'] = pd.Series(val_pred, index=y_validation.index)\n",
    "    df_preds[f'train_true_{p[\"period\"]}'] = y_training\n",
    "    df_preds[f'val_true_{p[\"period\"]}'] = y_validation\n",
    "df_coefs = pd.concat(df_coefs)"
   ]
  },
  {
   "cell_type": "code",
   "execution_count": 52,
   "id": "c3fe211f",
   "metadata": {},
   "outputs": [
    {
     "data": {
      "text/plain": [
       "<seaborn.axisgrid.FacetGrid at 0x13aedcdf0>"
      ]
     },
     "execution_count": 52,
     "metadata": {},
     "output_type": "execute_result"
    },
    {
     "data": {
      "image/png": "[encoded data removed]",
      "text/plain": [
       "<Figure size 798.75x360 with 2 Axes>"
      ]
     },
     "metadata": {},
     "output_type": "display_data"
    }
   ],
   "source": [
    "scores_df = pd.DataFrame.from_records(scores)\n",
    "sns.set_style('whitegrid')\n",
    "sns.catplot(data=scores_df, y='value', x='period', hue='set', col='name', kind='bar')"
   ]
  },
  {
   "cell_type": "code",
   "execution_count": 53,
   "id": "1b26dcaf",
   "metadata": {},
   "outputs": [],
   "source": [
    "cvscores_df = pd.DataFrame.from_records(cvscores)\n",
    "cvscores_df_no_sf = cvscores_df[cvscores_df['shuffle_feature'].isnull()]\n",
    "cvscores_df_sf = cvscores_df[~cvscores_df['shuffle_feature'].isnull()]"
   ]
  },
  {
   "cell_type": "code",
   "execution_count": 54,
   "id": "c3e8f4b8",
   "metadata": {},
   "outputs": [
    {
     "data": {
      "text/plain": [
       "<seaborn.axisgrid.FacetGrid at 0x1386f8b80>"
      ]
     },
     "execution_count": 54,
     "metadata": {},
     "output_type": "execute_result"
    },
    {
     "data": {
      "image/png": "[encoded data removed]",
      "text/plain": [
       "<Figure size 775.75x360 with 2 Axes>"
      ]
     },
     "metadata": {},
     "output_type": "display_data"
    }
   ],
   "source": [
    "sns.set_style('whitegrid')\n",
    "sns.catplot(data=cvscores_df_no_sf, y='value', x='period', hue='set', col='name', kind='box')"
   ]
  },
  {
   "cell_type": "code",
   "execution_count": 62,
   "id": "6024d131",
   "metadata": {},
   "outputs": [
    {
     "data": {
      "text/html": [
       "<div>\n",
       "<style scoped>\n",
       "    .dataframe tbody tr th:only-of-type {\n",
       "        vertical-align: middle;\n",
       "    }\n",
       "\n",
       "    .dataframe tbody tr th {\n",
       "        vertical-align: top;\n",
       "    }\n",
       "\n",
       "    .dataframe thead th {\n",
       "        text-align: right;\n",
       "    }\n",
       "</style>\n",
       "<table border=\"1\" class=\"dataframe\">\n",
       "  <thead>\n",
       "    <tr style=\"text-align: right;\">\n",
       "      <th></th>\n",
       "      <th>name</th>\n",
       "      <th>set</th>\n",
       "      <th>value_shuffled</th>\n",
       "      <th>cv</th>\n",
       "      <th>shuffle_feature</th>\n",
       "      <th>period</th>\n",
       "      <th>value</th>\n",
       "      <th>diff</th>\n",
       "    </tr>\n",
       "  </thead>\n",
       "  <tbody>\n",
       "    <tr>\n",
       "      <th>0</th>\n",
       "      <td>r2</td>\n",
       "      <td>train</td>\n",
       "      <td>0.714946</td>\n",
       "      <td>0</td>\n",
       "      <td>Background</td>\n",
       "      <td>2022-01-01</td>\n",
       "      <td>0.714627</td>\n",
       "      <td>0.000319</td>\n",
       "    </tr>\n",
       "    <tr>\n",
       "      <th>1</th>\n",
       "      <td>r2</td>\n",
       "      <td>train</td>\n",
       "      <td>0.644153</td>\n",
       "      <td>0</td>\n",
       "      <td>Clothes</td>\n",
       "      <td>2022-01-01</td>\n",
       "      <td>0.714627</td>\n",
       "      <td>-0.070475</td>\n",
       "    </tr>\n",
       "    <tr>\n",
       "      <th>2</th>\n",
       "      <td>r2</td>\n",
       "      <td>train</td>\n",
       "      <td>0.688842</td>\n",
       "      <td>0</td>\n",
       "      <td>Earring</td>\n",
       "      <td>2022-01-01</td>\n",
       "      <td>0.714627</td>\n",
       "      <td>-0.025785</td>\n",
       "    </tr>\n",
       "    <tr>\n",
       "      <th>3</th>\n",
       "      <td>r2</td>\n",
       "      <td>train</td>\n",
       "      <td>0.536909</td>\n",
       "      <td>0</td>\n",
       "      <td>Eyes</td>\n",
       "      <td>2022-01-01</td>\n",
       "      <td>0.714627</td>\n",
       "      <td>-0.177718</td>\n",
       "    </tr>\n",
       "    <tr>\n",
       "      <th>4</th>\n",
       "      <td>r2</td>\n",
       "      <td>train</td>\n",
       "      <td>0.594808</td>\n",
       "      <td>0</td>\n",
       "      <td>Fur</td>\n",
       "      <td>2022-01-01</td>\n",
       "      <td>0.714627</td>\n",
       "      <td>-0.119819</td>\n",
       "    </tr>\n",
       "  </tbody>\n",
       "</table>\n",
       "</div>"
      ],
      "text/plain": [
       "  name    set  value_shuffled  cv shuffle_feature      period     value  \\\n",
       "0   r2  train        0.714946   0      Background  2022-01-01  0.714627   \n",
       "1   r2  train        0.644153   0         Clothes  2022-01-01  0.714627   \n",
       "2   r2  train        0.688842   0         Earring  2022-01-01  0.714627   \n",
       "3   r2  train        0.536909   0            Eyes  2022-01-01  0.714627   \n",
       "4   r2  train        0.594808   0             Fur  2022-01-01  0.714627   \n",
       "\n",
       "       diff  \n",
       "0  0.000319  \n",
       "1 -0.070475  \n",
       "2 -0.025785  \n",
       "3 -0.177718  \n",
       "4 -0.119819  "
      ]
     },
     "execution_count": 62,
     "metadata": {},
     "output_type": "execute_result"
    }
   ],
   "source": [
    "shuffle_df = cvscores_df_sf.merge(cvscores_df_no_sf.drop(columns=['shuffle_feature']), on=['name', 'set', 'cv', 'period'], suffixes=('_shuffled', ''))\n",
    "shuffle_df['diff'] = shuffle_df['value_shuffled'] - shuffle_df['value']\n",
    "shuffle_df.head()"
   ]
  },
  {
   "cell_type": "code",
   "execution_count": 63,
   "id": "94953b1f",
   "metadata": {},
   "outputs": [
    {
     "data": {
      "text/plain": [
       "<seaborn.axisgrid.FacetGrid at 0x13afc81f0>"
      ]
     },
     "execution_count": 63,
     "metadata": {},
     "output_type": "execute_result"
    },
    {
     "data": {
      "image/png": "[encoded data removed]",
      "text/plain": [
       "<Figure size 807.375x720 with 4 Axes>"
      ]
     },
     "metadata": {},
     "output_type": "display_data"
    }
   ],
   "source": [
    "sns.catplot(data=shuffle_df, y='diff', x='shuffle_feature', hue='period', row='set', col='name', kind='box')"
   ]
  },
  {
   "cell_type": "code",
   "execution_count": null,
   "id": "e988e9e5",
   "metadata": {},
   "outputs": [
    {
     "data": {
      "text/html": [
       "<div>\n",
       "<style scoped>\n",
       "    .dataframe tbody tr th:only-of-type {\n",
       "        vertical-align: middle;\n",
       "    }\n",
       "\n",
       "    .dataframe tbody tr th {\n",
       "        vertical-align: top;\n",
       "    }\n",
       "\n",
       "    .dataframe thead th {\n",
       "        text-align: right;\n",
       "    }\n",
       "</style>\n",
       "<table border=\"1\" class=\"dataframe\">\n",
       "  <thead>\n",
       "    <tr style=\"text-align: right;\">\n",
       "      <th></th>\n",
       "      <th>trait_id</th>\n",
       "      <th>coef</th>\n",
       "      <th>period</th>\n",
       "      <th>trait_type</th>\n",
       "      <th>trait_value</th>\n",
       "    </tr>\n",
       "  </thead>\n",
       "  <tbody>\n",
       "    <tr>\n",
       "      <th>0</th>\n",
       "      <td>Background_Aquamarine</td>\n",
       "      <td>0.000000</td>\n",
       "      <td>2022-01-01</td>\n",
       "      <td>Background</td>\n",
       "      <td>Aquamarine</td>\n",
       "    </tr>\n",
       "    <tr>\n",
       "      <th>1</th>\n",
       "      <td>Background_Aquamarine</td>\n",
       "      <td>0.254197</td>\n",
       "      <td>2022-02-01</td>\n",
       "      <td>Background</td>\n",
       "      <td>Aquamarine</td>\n",
       "    </tr>\n",
       "    <tr>\n",
       "      <th>2</th>\n",
       "      <td>Background_Aquamarine</td>\n",
       "      <td>-0.000000</td>\n",
       "      <td>2022-03-01</td>\n",
       "      <td>Background</td>\n",
       "      <td>Aquamarine</td>\n",
       "    </tr>\n",
       "    <tr>\n",
       "      <th>3</th>\n",
       "      <td>Background_Army Green</td>\n",
       "      <td>-0.000000</td>\n",
       "      <td>2022-01-01</td>\n",
       "      <td>Background</td>\n",
       "      <td>Army Green</td>\n",
       "    </tr>\n",
       "    <tr>\n",
       "      <th>4</th>\n",
       "      <td>Background_Army Green</td>\n",
       "      <td>-0.972310</td>\n",
       "      <td>2022-02-01</td>\n",
       "      <td>Background</td>\n",
       "      <td>Army Green</td>\n",
       "    </tr>\n",
       "    <tr>\n",
       "      <th>...</th>\n",
       "      <td>...</td>\n",
       "      <td>...</td>\n",
       "      <td>...</td>\n",
       "      <td>...</td>\n",
       "      <td>...</td>\n",
       "    </tr>\n",
       "    <tr>\n",
       "      <th>511</th>\n",
       "      <td>TraitCount_6</td>\n",
       "      <td>-4.225338</td>\n",
       "      <td>2022-02-01</td>\n",
       "      <td>TraitCount</td>\n",
       "      <td>6</td>\n",
       "    </tr>\n",
       "    <tr>\n",
       "      <th>512</th>\n",
       "      <td>TraitCount_6</td>\n",
       "      <td>-2.846660</td>\n",
       "      <td>2022-03-01</td>\n",
       "      <td>TraitCount</td>\n",
       "      <td>6</td>\n",
       "    </tr>\n",
       "    <tr>\n",
       "      <th>513</th>\n",
       "      <td>TraitCount_7</td>\n",
       "      <td>5.087722</td>\n",
       "      <td>2022-01-01</td>\n",
       "      <td>TraitCount</td>\n",
       "      <td>7</td>\n",
       "    </tr>\n",
       "    <tr>\n",
       "      <th>514</th>\n",
       "      <td>TraitCount_7</td>\n",
       "      <td>4.259595</td>\n",
       "      <td>2022-02-01</td>\n",
       "      <td>TraitCount</td>\n",
       "      <td>7</td>\n",
       "    </tr>\n",
       "    <tr>\n",
       "      <th>515</th>\n",
       "      <td>TraitCount_7</td>\n",
       "      <td>2.811809</td>\n",
       "      <td>2022-03-01</td>\n",
       "      <td>TraitCount</td>\n",
       "      <td>7</td>\n",
       "    </tr>\n",
       "  </tbody>\n",
       "</table>\n",
       "<p>516 rows × 5 columns</p>\n",
       "</div>"
      ],
      "text/plain": [
       "                  trait_id      coef      period  trait_type trait_value\n",
       "0    Background_Aquamarine  0.000000  2022-01-01  Background  Aquamarine\n",
       "1    Background_Aquamarine  0.254197  2022-02-01  Background  Aquamarine\n",
       "2    Background_Aquamarine -0.000000  2022-03-01  Background  Aquamarine\n",
       "3    Background_Army Green -0.000000  2022-01-01  Background  Army Green\n",
       "4    Background_Army Green -0.972310  2022-02-01  Background  Army Green\n",
       "..                     ...       ...         ...         ...         ...\n",
       "511           TraitCount_6 -4.225338  2022-02-01  TraitCount           6\n",
       "512           TraitCount_6 -2.846660  2022-03-01  TraitCount           6\n",
       "513           TraitCount_7  5.087722  2022-01-01  TraitCount           7\n",
       "514           TraitCount_7  4.259595  2022-02-01  TraitCount           7\n",
       "515           TraitCount_7  2.811809  2022-03-01  TraitCount           7\n",
       "\n",
       "[516 rows x 5 columns]"
      ]
     },
     "execution_count": 57,
     "metadata": {},
     "output_type": "execute_result"
    }
   ],
   "source": [
    "df_coefs = df_coefs.merge(df_t[['trait_id', 'trait_type', 'trait_value']].drop_duplicates())\n",
    "df_coefs"
   ]
  },
  {
   "cell_type": "code",
   "execution_count": null,
   "id": "be52b332",
   "metadata": {},
   "outputs": [
    {
     "data": {
      "text/plain": [
       "0.38372093023255816"
      ]
     },
     "execution_count": 58,
     "metadata": {},
     "output_type": "execute_result"
    }
   ],
   "source": [
    "(df_coefs[df_coefs['period'] == '2022-03-01']['coef'] > 0.001).mean()"
   ]
  },
  {
   "cell_type": "code",
   "execution_count": null,
   "id": "7398e81d",
   "metadata": {},
   "outputs": [
    {
     "data": {
      "text/html": [
       "<div>\n",
       "<style scoped>\n",
       "    .dataframe tbody tr th:only-of-type {\n",
       "        vertical-align: middle;\n",
       "    }\n",
       "\n",
       "    .dataframe tbody tr th {\n",
       "        vertical-align: top;\n",
       "    }\n",
       "\n",
       "    .dataframe thead th {\n",
       "        text-align: right;\n",
       "    }\n",
       "</style>\n",
       "<table border=\"1\" class=\"dataframe\">\n",
       "  <thead>\n",
       "    <tr style=\"text-align: right;\">\n",
       "      <th></th>\n",
       "      <th>train_pred_2022-01-01</th>\n",
       "      <th>val_pred_2022-01-01</th>\n",
       "      <th>train_true_2022-01-01</th>\n",
       "      <th>val_true_2022-01-01</th>\n",
       "      <th>train_pred_2022-02-01</th>\n",
       "      <th>val_pred_2022-02-01</th>\n",
       "      <th>train_true_2022-02-01</th>\n",
       "      <th>val_true_2022-02-01</th>\n",
       "      <th>train_pred_2022-03-01</th>\n",
       "      <th>val_pred_2022-03-01</th>\n",
       "      <th>train_true_2022-03-01</th>\n",
       "      <th>val_true_2022-03-01</th>\n",
       "    </tr>\n",
       "  </thead>\n",
       "  <tbody>\n",
       "    <tr>\n",
       "      <th>22646197</th>\n",
       "      <td>111.811598</td>\n",
       "      <td>NaN</td>\n",
       "      <td>130.689431</td>\n",
       "      <td>NaN</td>\n",
       "      <td>113.405074</td>\n",
       "      <td>NaN</td>\n",
       "      <td>130.689431</td>\n",
       "      <td>NaN</td>\n",
       "      <td>116.386406</td>\n",
       "      <td>NaN</td>\n",
       "      <td>130.689431</td>\n",
       "      <td>NaN</td>\n",
       "    </tr>\n",
       "    <tr>\n",
       "      <th>22646208</th>\n",
       "      <td>NaN</td>\n",
       "      <td>NaN</td>\n",
       "      <td>NaN</td>\n",
       "      <td>NaN</td>\n",
       "      <td>NaN</td>\n",
       "      <td>NaN</td>\n",
       "      <td>NaN</td>\n",
       "      <td>NaN</td>\n",
       "      <td>NaN</td>\n",
       "      <td>NaN</td>\n",
       "      <td>NaN</td>\n",
       "      <td>NaN</td>\n",
       "    </tr>\n",
       "    <tr>\n",
       "      <th>22646211</th>\n",
       "      <td>177.850144</td>\n",
       "      <td>NaN</td>\n",
       "      <td>194.014151</td>\n",
       "      <td>NaN</td>\n",
       "      <td>173.553161</td>\n",
       "      <td>NaN</td>\n",
       "      <td>194.014151</td>\n",
       "      <td>NaN</td>\n",
       "      <td>157.521025</td>\n",
       "      <td>NaN</td>\n",
       "      <td>194.014151</td>\n",
       "      <td>NaN</td>\n",
       "    </tr>\n",
       "    <tr>\n",
       "      <th>22646214</th>\n",
       "      <td>133.436009</td>\n",
       "      <td>NaN</td>\n",
       "      <td>218.704762</td>\n",
       "      <td>NaN</td>\n",
       "      <td>NaN</td>\n",
       "      <td>NaN</td>\n",
       "      <td>NaN</td>\n",
       "      <td>NaN</td>\n",
       "      <td>NaN</td>\n",
       "      <td>NaN</td>\n",
       "      <td>NaN</td>\n",
       "      <td>NaN</td>\n",
       "    </tr>\n",
       "    <tr>\n",
       "      <th>22646220</th>\n",
       "      <td>NaN</td>\n",
       "      <td>NaN</td>\n",
       "      <td>NaN</td>\n",
       "      <td>NaN</td>\n",
       "      <td>NaN</td>\n",
       "      <td>NaN</td>\n",
       "      <td>NaN</td>\n",
       "      <td>NaN</td>\n",
       "      <td>NaN</td>\n",
       "      <td>108.00519</td>\n",
       "      <td>NaN</td>\n",
       "      <td>118.599614</td>\n",
       "    </tr>\n",
       "  </tbody>\n",
       "</table>\n",
       "</div>"
      ],
      "text/plain": [
       "          train_pred_2022-01-01  val_pred_2022-01-01  train_true_2022-01-01  \\\n",
       "22646197             111.811598                  NaN             130.689431   \n",
       "22646208                    NaN                  NaN                    NaN   \n",
       "22646211             177.850144                  NaN             194.014151   \n",
       "22646214             133.436009                  NaN             218.704762   \n",
       "22646220                    NaN                  NaN                    NaN   \n",
       "\n",
       "          val_true_2022-01-01  train_pred_2022-02-01  val_pred_2022-02-01  \\\n",
       "22646197                  NaN             113.405074                  NaN   \n",
       "22646208                  NaN                    NaN                  NaN   \n",
       "22646211                  NaN             173.553161                  NaN   \n",
       "22646214                  NaN                    NaN                  NaN   \n",
       "22646220                  NaN                    NaN                  NaN   \n",
       "\n",
       "          train_true_2022-02-01  val_true_2022-02-01  train_pred_2022-03-01  \\\n",
       "22646197             130.689431                  NaN             116.386406   \n",
       "22646208                    NaN                  NaN                    NaN   \n",
       "22646211             194.014151                  NaN             157.521025   \n",
       "22646214                    NaN                  NaN                    NaN   \n",
       "22646220                    NaN                  NaN                    NaN   \n",
       "\n",
       "          val_pred_2022-03-01  train_true_2022-03-01  val_true_2022-03-01  \n",
       "22646197                  NaN             130.689431                  NaN  \n",
       "22646208                  NaN                    NaN                  NaN  \n",
       "22646211                  NaN             194.014151                  NaN  \n",
       "22646214                  NaN                    NaN                  NaN  \n",
       "22646220            108.00519                    NaN           118.599614  "
      ]
     },
     "execution_count": 59,
     "metadata": {},
     "output_type": "execute_result"
    }
   ],
   "source": [
    "df_preds.head()"
   ]
  },
  {
   "cell_type": "code",
   "execution_count": null,
   "id": "24af6715",
   "metadata": {},
   "outputs": [],
   "source": []
  },
  {
   "cell_type": "code",
   "execution_count": null,
   "id": "cd35d948",
   "metadata": {},
   "outputs": [
    {
     "data": {
      "text/plain": [
       "<AxesSubplot:xlabel='val_pred_2022-03-01', ylabel='val_true_2022-03-01'>"
      ]
     },
     "execution_count": 60,
     "metadata": {},
     "output_type": "execute_result"
    },
    {
     "data": {
      "image/png": "[encoded data removed]",
      "text/plain": [
       "<Figure size 432x288 with 1 Axes>"
      ]
     },
     "metadata": {
      "needs_background": "light"
     },
     "output_type": "display_data"
    }
   ],
   "source": [
    "sns.scatterplot(data=df_preds, x='val_pred_2022-03-01', y='val_true_2022-03-01')"
   ]
  },
  {
   "cell_type": "code",
   "execution_count": null,
   "id": "3c3db277",
   "metadata": {},
   "outputs": [],
   "source": [
    "df_at = df_t_s.groupby('asset_id')[\n",
    "    ['trait_type', 'trait_value', 'trait_count', 'rarity_score', 'frequency', 'rank']].apply(lambda df: df.to_dict(orient='records'))\n",
    "\n",
    "df_aa = df_a.set_index('asset_id')[\n",
    "    ['token_id', 'collection', 'image_url', 'image_preview_url', 'image_thumbnail_url']]\n",
    "\n",
    "df = df_aa.copy()\n",
    "df['traits'] = df_at\n",
    "df['history_eth'] = df_preds['train_true_2022-03-01']\n",
    "df['sales_eth'] = df_preds['val_true_2022-03-01']\n",
    "df['pred_eth'] = df_preds['val_pred_2022-03-01']\n",
    "\n",
    "df = df[~(df['history_eth'].isna() & df['sales_eth'].isna())]\n",
    "\n",
    "df_sales = df.copy()\n",
    "\n",
    "df[['history_eth','sales_eth','pred_eth']] = df[['history_eth','sales_eth','pred_eth']].fillna(-1.)\n",
    "\n",
    "save_json(df.to_dict(orient='records'), os.path.join(top_folder, 'bayc_2022-03-01.json'))"
   ]
  },
  {
   "cell_type": "code",
   "execution_count": null,
   "id": "315d2bda",
   "metadata": {},
   "outputs": [],
   "source": [
    "df_asset_coefs = df_coefs[df_coefs['period'] == '2022-03-01'] \\\n",
    "    .merge(df_t_s[['asset_id','trait_id']]) \\\n",
    "    .merge(df_a[['asset_id', 'token_id']]) \\\n",
    "    .merge(df_sales[['token_id', 'history_eth', 'sales_eth', 'pred_eth']])[['token_id', 'trait_type', 'trait_value', 'coef', 'history_eth', 'sales_eth', 'pred_eth']] \\\n",
    "\n",
    "df_asset_coefs.to_csv(os.path.join(top_folder, 'bayc_asset_coefficients_2022-03-01.csv'))"
   ]
  },
  {
   "cell_type": "code",
   "execution_count": null,
   "id": "af8318b1",
   "metadata": {},
   "outputs": [
    {
     "name": "stdout",
     "output_type": "stream",
     "text": [
      "<class 'pandas.core.frame.DataFrame'>\n",
      "Int64Index: 20273 entries, 0 to 20272\n",
      "Data columns (total 7 columns):\n",
      " #   Column       Non-Null Count  Dtype  \n",
      "---  ------       --------------  -----  \n",
      " 0   token_id     20273 non-null  object \n",
      " 1   trait_type   20273 non-null  object \n",
      " 2   trait_value  20273 non-null  object \n",
      " 3   coef         20273 non-null  float64\n",
      " 4   history_eth  18259 non-null  float64\n",
      " 5   sales_eth    3727 non-null   float64\n",
      " 6   pred_eth     3727 non-null   float64\n",
      "dtypes: float64(4), object(3)\n",
      "memory usage: 1.2+ MB\n"
     ]
    }
   ],
   "source": [
    "df_asset_coefs.info()"
   ]
  },
  {
   "cell_type": "code",
   "execution_count": null,
   "id": "1157db6f",
   "metadata": {},
   "outputs": [],
   "source": [
    "df_coefs[df_coefs['period'] == '2022-03-01'][['trait_type', 'trait_value','coef', ]].to_csv(os.path.join(top_folder, 'bayc_coefficients_2022-03-01.csv'))"
   ]
  }
 ],
 "metadata": {
  "interpreter": {
   "hash": "6358d2b37cadaf68da9f88457ea7b9933bd525c81ef3c979dca47c51e7682d4e"
  },
  "kernelspec": {
   "display_name": "Python 3.9.10 ('.venv': venv)",
   "language": "python",
   "name": "python3"
  },
  "language_info": {
   "codemirror_mode": {
    "name": "ipython",
    "version": 3
   },
   "file_extension": ".py",
   "mimetype": "text/x-python",
   "name": "python",
   "nbconvert_exporter": "python",
   "pygments_lexer": "ipython3",
   "version": "3.9.10"
  },
  "papermill": {
   "default_parameters": {},
   "environment_variables": {},
   "input_path": "notebooks/model.ipynb",
   "output_path": "notebooks/model.ipynb",
   "parameters": {
    "top_folder": "../data/top_collections"
   },
   "version": "2.3.4"
  }
 },
 "nbformat": 4,
 "nbformat_minor": 5
}
